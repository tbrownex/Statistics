{
 "cells": [
  {
   "cell_type": "markdown",
   "metadata": {},
   "source": [
    "##### https://pythonhosted.org/PuLP/CaseStudies/a_blending_problem.html"
   ]
  },
  {
   "cell_type": "code",
   "execution_count": 1,
   "metadata": {},
   "outputs": [],
   "source": [
    "\"\"\"\n",
    "The Full Whiskas Model Python Formulation for the PuLP Modeller\n",
    "\n",
    "Authors: Antony Phillips, Dr Stuart Mitchell  2007\n",
    "\"\"\"\n",
    "\n",
    "# Import PuLP modeler functions\n",
    "from pulp import *"
   ]
  },
  {
   "cell_type": "code",
   "execution_count": 2,
   "metadata": {},
   "outputs": [],
   "source": [
    "# Creates a list of the Ingredients\n",
    "Ingredients = ['CHICKEN', 'BEEF', 'MUTTON', 'RICE', 'WHEAT', 'GEL']\n",
    "\n",
    "# A dictionary of the costs of each of the Ingredients is created\n",
    "costs = {'CHICKEN': 0.013, \n",
    "         'BEEF': 0.008, \n",
    "         'MUTTON': 0.010, \n",
    "         'RICE': 0.002, \n",
    "         'WHEAT': 0.005, \n",
    "         'GEL': 0.001}\n",
    "\n",
    "# A dictionary of the protein percent in each of the Ingredients is created\n",
    "proteinPercent = {'CHICKEN': 0.100, \n",
    "                  'BEEF': 0.200, \n",
    "                  'MUTTON': 0.150, \n",
    "                  'RICE': 0.000, \n",
    "                  'WHEAT': 0.040, \n",
    "                  'GEL': 0.000}\n",
    "\n",
    "# A dictionary of the fat percent in each of the Ingredients is created\n",
    "fatPercent = {'CHICKEN': 0.080, \n",
    "              'BEEF': 0.100, \n",
    "              'MUTTON': 0.110, \n",
    "              'RICE': 0.010, \n",
    "              'WHEAT': 0.010, \n",
    "              'GEL': 0.000}\n",
    "\n",
    "# A dictionary of the fibre percent in each of the Ingredients is created\n",
    "fibrePercent = {'CHICKEN': 0.001, \n",
    "                'BEEF': 0.005, \n",
    "                'MUTTON': 0.003, \n",
    "                'RICE': 0.100, \n",
    "                'WHEAT': 0.150, \n",
    "                'GEL': 0.000}\n",
    "\n",
    "# A dictionary of the salt percent in each of the Ingredients is created\n",
    "saltPercent = {'CHICKEN': 0.002, \n",
    "               'BEEF': 0.005, \n",
    "               'MUTTON': 0.007, \n",
    "               'RICE': 0.002, \n",
    "               'WHEAT': 0.008, \n",
    "               'GEL': 0.000}"
   ]
  },
  {
   "cell_type": "code",
   "execution_count": 3,
   "metadata": {},
   "outputs": [],
   "source": [
    "# Create the 'prob' variable to contain the problem data\n",
    "prob = LpProblem(\"The Whiskas Problem\", LpMinimize)"
   ]
  },
  {
   "cell_type": "code",
   "execution_count": 5,
   "metadata": {},
   "outputs": [],
   "source": [
    "# A dictionary called 'ingredient_vars' is created to contain the referenced Variables\n",
    "ingredient_vars = LpVariable.dicts(\"Ingr\",Ingredients,0)"
   ]
  },
  {
   "cell_type": "code",
   "execution_count": 11,
   "metadata": {},
   "outputs": [],
   "source": [
    "# The objective function is added to 'prob' first\n",
    "prob += lpSum([costs[i]*ingredient_vars[i] for i in Ingredients]), \"Total Cost of Ingredients per can\""
   ]
  },
  {
   "cell_type": "code",
   "execution_count": 13,
   "metadata": {},
   "outputs": [],
   "source": [
    "# The five constraints are added to 'prob'\n",
    "prob += lpSum([ingredient_vars[i] for i in Ingredients]) == 100, \"PercentagesSum\"\n",
    "prob += lpSum([proteinPercent[i] * ingredient_vars[i] for i in Ingredients]) >= 8.0, \"ProteinRequirement\"\n",
    "prob += lpSum([fatPercent[i] * ingredient_vars[i] for i in Ingredients]) >= 6.0, \"FatRequirement\"\n",
    "prob += lpSum([fibrePercent[i] * ingredient_vars[i] for i in Ingredients]) <= 2.0, \"FibreRequirement\"\n",
    "prob += lpSum([saltPercent[i] * ingredient_vars[i] for i in Ingredients]) <= 0.4, \"SaltRequirement\""
   ]
  },
  {
   "cell_type": "code",
   "execution_count": 14,
   "metadata": {},
   "outputs": [],
   "source": [
    "# The problem data is written to an .lp file\n",
    "prob.writeLP(\"/home/tbrownex/WhiskasModel2.lp\")"
   ]
  },
  {
   "cell_type": "code",
   "execution_count": 15,
   "metadata": {},
   "outputs": [
    {
     "data": {
      "text/plain": [
       "1"
      ]
     },
     "execution_count": 15,
     "metadata": {},
     "output_type": "execute_result"
    }
   ],
   "source": [
    "# The problem is solved using PuLP's choice of Solver\n",
    "prob.solve()"
   ]
  },
  {
   "cell_type": "code",
   "execution_count": 17,
   "metadata": {},
   "outputs": [
    {
     "name": "stdout",
     "output_type": "stream",
     "text": [
      "Status: Optimal\n"
     ]
    }
   ],
   "source": [
    "# The status of the solution is printed to the screen\n",
    "print (\"Status:\", LpStatus[prob.status])"
   ]
  },
  {
   "cell_type": "code",
   "execution_count": 19,
   "metadata": {},
   "outputs": [
    {
     "name": "stdout",
     "output_type": "stream",
     "text": [
      "Ingr_BEEF = 60.0\n",
      "Ingr_CHICKEN = 0.0\n",
      "Ingr_GEL = 40.0\n",
      "Ingr_MUTTON = 0.0\n",
      "Ingr_RICE = 0.0\n",
      "Ingr_WHEAT = 0.0\n"
     ]
    }
   ],
   "source": [
    "# Each of the variables is printed with it's resolved optimum value\n",
    "for v in prob.variables():\n",
    "    print (v.name, \"=\", v.varValue)"
   ]
  },
  {
   "cell_type": "code",
   "execution_count": 21,
   "metadata": {},
   "outputs": [
    {
     "name": "stdout",
     "output_type": "stream",
     "text": [
      "Total Cost of Ingredients per can =  0.52\n"
     ]
    }
   ],
   "source": [
    "# The optimised objective function value is printed to the screen    \n",
    "print (\"Total Cost of Ingredients per can = \", value(prob.objective))"
   ]
  }
 ],
 "metadata": {
  "kernelspec": {
   "display_name": "Python 3",
   "language": "python",
   "name": "python3"
  },
  "language_info": {
   "codemirror_mode": {
    "name": "ipython",
    "version": 3
   },
   "file_extension": ".py",
   "mimetype": "text/x-python",
   "name": "python",
   "nbconvert_exporter": "python",
   "pygments_lexer": "ipython3",
   "version": "3.5.2"
  }
 },
 "nbformat": 4,
 "nbformat_minor": 2
}
