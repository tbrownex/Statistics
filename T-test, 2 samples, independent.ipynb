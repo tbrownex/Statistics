{
 "cells": [
  {
   "cell_type": "markdown",
   "metadata": {},
   "source": [
    "#### Using Rite Aid sales data, create a DF with 2 stores\n",
    "#### Then use 2 sample T-test to compare the mean of sales\n",
    "#### The sales figure on each record is the basket charge (single customer)"
   ]
  },
  {
   "cell_type": "code",
   "execution_count": 3,
   "metadata": {
    "collapsed": true
   },
   "outputs": [],
   "source": [
    "import pandas as pd\n",
    "import numpy as np\n",
    "from scipy import stats\n",
    "from math import sqrt"
   ]
  },
  {
   "cell_type": "code",
   "execution_count": 2,
   "metadata": {
    "collapsed": false
   },
   "outputs": [
    {
     "data": {
      "text/plain": [
       "(216771, 12)"
      ]
     },
     "execution_count": 2,
     "metadata": {},
     "output_type": "execute_result"
    }
   ],
   "source": [
    "INPUT_DIR = 'D:\\\\Data\\Python\\\\'\n",
    "file = 'Rx Sales data.csv'\n",
    "df = pd.read_csv(INPUT_DIR + file)\n",
    "df.shape"
   ]
  },
  {
   "cell_type": "code",
   "execution_count": 3,
   "metadata": {
    "collapsed": false
   },
   "outputs": [],
   "source": [
    "# Will not being using these fields\n",
    "del df[\"Unnamed: 0\"]\n",
    "del df[\"Last Date\"]"
   ]
  },
  {
   "cell_type": "code",
   "execution_count": 4,
   "metadata": {
    "collapsed": false
   },
   "outputs": [],
   "source": [
    "# Remove returns (negative sales)\n",
    "df = df[df['Front of Store Sales']>0]"
   ]
  },
  {
   "cell_type": "code",
   "execution_count": 5,
   "metadata": {
    "collapsed": false
   },
   "outputs": [
    {
     "data": {
      "text/plain": [
       "(172647, 10)"
      ]
     },
     "execution_count": 5,
     "metadata": {},
     "output_type": "execute_result"
    }
   ],
   "source": [
    "df.shape"
   ]
  },
  {
   "cell_type": "code",
   "execution_count": 6,
   "metadata": {
    "collapsed": false
   },
   "outputs": [],
   "source": [
    "stores = [12999, 17783]        # These are the stores to study"
   ]
  },
  {
   "cell_type": "code",
   "execution_count": 7,
   "metadata": {
    "collapsed": false
   },
   "outputs": [
    {
     "name": "stdout",
     "output_type": "stream",
     "text": [
      "Store#     Front of Store Sales      Mean       Count    StdDev\n",
      "12999          15528.62              25.05       620     25.95\n",
      "17783          17289.24              23.75       728     23.73\n"
     ]
    }
   ],
   "source": [
    "print(\"{}{:>25}{:>10}{:>12}{:>10}\".format(\"Store#\", \"Front of Store Sales\", \"Mean\", \"Count\", \"StdDev\"))\n",
    "\n",
    "for x in stores:\n",
    "    print(\"{}{:>18.2f}{:>19.2f}{:>10}{:>10.2f}\".format(x,\n",
    "                                              df.ix[df['Store'] == x]['Front of Store Sales'].sum(),\n",
    "                                              df.ix[df['Store'] == x]['Front of Store Sales'].mean(),\n",
    "                                              df.ix[df['Store'] == x]['Front of Store Sales'].count(),\n",
    "                                              df.ix[df['Store'] == x]['Front of Store Sales'].std()))"
   ]
  },
  {
   "cell_type": "markdown",
   "metadata": {},
   "source": [
    "#### Check if these values (above) are ok, if so, split out the 2 sets of stores into separate arrays (for sciPy)"
   ]
  },
  {
   "cell_type": "code",
   "execution_count": 8,
   "metadata": {
    "collapsed": false
   },
   "outputs": [],
   "source": [
    "store_list = []\n",
    "for x in range(len(stores)):\n",
    "    store_list.append(df.ix[df['Store']== stores[x]][\"Front of Store Sales\"])"
   ]
  },
  {
   "cell_type": "code",
   "execution_count": 9,
   "metadata": {
    "collapsed": false
   },
   "outputs": [],
   "source": [
    "(t, p) = stats.ttest_ind(store_list[0], store_list[1])"
   ]
  },
  {
   "cell_type": "markdown",
   "metadata": {},
   "source": [
    "#### Looking for a P-value of less than .05  typically. If above that, then the two means should be considered equal"
   ]
  },
  {
   "cell_type": "code",
   "execution_count": 10,
   "metadata": {
    "collapsed": false
   },
   "outputs": [
    {
     "name": "stdout",
     "output_type": "stream",
     "text": [
      "T-statistic:  0.958\n",
      "    P-value:  0.338\n"
     ]
    }
   ],
   "source": [
    "print(\"T-statistic:  {:.3}\".format(t))\n",
    "print(\"    P-value:  {:.3}\".format(p))"
   ]
  },
  {
   "cell_type": "markdown",
   "metadata": {},
   "source": [
    "#### For stores 12999 and 17783 P is .34 which is way above the minimum to deny the Null,\n",
    "#### therefore means are considered equal"
   ]
  },
  {
   "cell_type": "markdown",
   "metadata": {},
   "source": [
    "## *****"
   ]
  },
  {
   "cell_type": "markdown",
   "metadata": {},
   "source": [
    "#### T-test works best when the data is normalized. Let's see how normal the sales are"
   ]
  },
  {
   "cell_type": "code",
   "execution_count": 11,
   "metadata": {
    "collapsed": false
   },
   "outputs": [],
   "source": [
    "(count, bin) = np.histogram(store_list[0], bins=6)"
   ]
  },
  {
   "cell_type": "code",
   "execution_count": 12,
   "metadata": {
    "collapsed": false
   },
   "outputs": [
    {
     "name": "stdout",
     "output_type": "stream",
     "text": [
      "  Bin Range       Count\n",
      "  0.07 - 38.08     477\n",
      " 38.08 - 76.09     120\n",
      " 76.09 - 114.09    18\n",
      "114.09 - 152.10    1\n",
      "152.10 - 190.11    1\n",
      "190.11 - 228.12    3\n"
     ]
    }
   ],
   "source": [
    "print(\"  {}{:>12}\".format(\"Bin Range\", \"Count\"))\n",
    "for x in range(len(bin)-1):\n",
    "    print(\"{:>6.2f} {} {:<10.2f}{}\".format(bin[x], \"-\", bin[x+1], count[x]))"
   ]
  },
  {
   "cell_type": "markdown",
   "metadata": {},
   "source": [
    "#### So it's not at all Normal"
   ]
  },
  {
   "cell_type": "markdown",
   "metadata": {},
   "source": [
    "#### *******"
   ]
  },
  {
   "cell_type": "markdown",
   "metadata": {},
   "source": [
    "#### Long way of computing T-statistic"
   ]
  },
  {
   "cell_type": "code",
   "execution_count": 13,
   "metadata": {
    "collapsed": false
   },
   "outputs": [],
   "source": [
    "# Get difference of means\n",
    "M0 = store_list[0].mean()\n",
    "M1 = store_list[1].mean()"
   ]
  },
  {
   "cell_type": "code",
   "execution_count": 14,
   "metadata": {
    "collapsed": false
   },
   "outputs": [
    {
     "name": "stdout",
     "output_type": "stream",
     "text": [
      "673.342804303508 563.0763573680786\n"
     ]
    }
   ],
   "source": [
    "# Get sample variances\n",
    "V0 = store_list[0].var()\n",
    "V1 = store_list[1].var()\n",
    "print(V0,V1)"
   ]
  },
  {
   "cell_type": "code",
   "execution_count": 15,
   "metadata": {
    "collapsed": false
   },
   "outputs": [
    {
     "name": "stdout",
     "output_type": "stream",
     "text": [
      "620 728\n"
     ]
    }
   ],
   "source": [
    "# Sample sizes\n",
    "S0 = store_list[0].size\n",
    "S1 = store_list[1].size\n",
    "print(S0,S1)"
   ]
  },
  {
   "cell_type": "code",
   "execution_count": 19,
   "metadata": {
    "collapsed": false
   },
   "outputs": [
    {
     "name": "stdout",
     "output_type": "stream",
     "text": [
      "T-statistic is 0.95\n"
     ]
    }
   ],
   "source": [
    "T = (M0 - M1) / sqrt(V0/S0 + V1/S1)\n",
    "print(\"T-statistic is {:.2f}\".format(T))"
   ]
  },
  {
   "cell_type": "code",
   "execution_count": null,
   "metadata": {
    "collapsed": true
   },
   "outputs": [],
   "source": []
  },
  {
   "cell_type": "code",
   "execution_count": null,
   "metadata": {
    "collapsed": true
   },
   "outputs": [],
   "source": []
  },
  {
   "cell_type": "code",
   "execution_count": 4,
   "metadata": {
    "collapsed": false
   },
   "outputs": [
    {
     "name": "stdout",
     "output_type": "stream",
     "text": [
      "nan\n"
     ]
    },
    {
     "name": "stderr",
     "output_type": "stream",
     "text": [
      "C:\\Users\\Tom\\Anaconda3\\lib\\site-packages\\numpy\\core\\_methods.py:82: RuntimeWarning: Degrees of freedom <= 0 for slice\n",
      "  warnings.warn(\"Degrees of freedom <= 0 for slice\", RuntimeWarning)\n"
     ]
    }
   ],
   "source": [
    "prior = [161,197,190,154,179,170,183,172,176,199,156]\n",
    "current = [106]\n",
    "(t, p) = stats.ttest_ind(prior, current)\n",
    "print(p)"
   ]
  },
  {
   "cell_type": "code",
   "execution_count": null,
   "metadata": {
    "collapsed": true
   },
   "outputs": [],
   "source": []
  }
 ],
 "metadata": {
  "anaconda-cloud": {},
  "kernelspec": {
   "display_name": "Python [Root]",
   "language": "python",
   "name": "Python [Root]"
  },
  "language_info": {
   "codemirror_mode": {
    "name": "ipython",
    "version": 3
   },
   "file_extension": ".py",
   "mimetype": "text/x-python",
   "name": "python",
   "nbconvert_exporter": "python",
   "pygments_lexer": "ipython3",
   "version": "3.5.2"
  }
 },
 "nbformat": 4,
 "nbformat_minor": 0
}
