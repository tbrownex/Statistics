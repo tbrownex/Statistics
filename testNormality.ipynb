{
 "cells": [
  {
   "cell_type": "code",
   "execution_count": 1,
   "metadata": {},
   "outputs": [],
   "source": [
    "# Shapiro-Wilk Test\n",
    "from numpy.random import randn\n",
    "from scipy.stats import shapiro\n",
    "from scipy.stats import normaltest\n",
    "from scipy.stats import anderson\n",
    "\n",
    "# Here are two different methods of determining Normality\n",
    "methodList = [shapiro, normaltest]\n",
    "\n",
    "alpha = 0.05"
   ]
  },
  {
   "cell_type": "code",
   "execution_count": 2,
   "metadata": {},
   "outputs": [],
   "source": [
    "def genData():\n",
    "    # generate univariate observations\n",
    "    data = 5 * randn(100) + 50\n",
    "    return data"
   ]
  },
  {
   "cell_type": "code",
   "execution_count": 3,
   "metadata": {},
   "outputs": [],
   "source": [
    "def testNormality(method, data):\n",
    "    _, p = method(data)\n",
    "    p = round(p,2)\n",
    "    if p > alpha:\n",
    "        Gaussian = \"True\"\n",
    "    else:\n",
    "        Gaussian = \"False\"\n",
    "    return Gaussian, p"
   ]
  },
  {
   "cell_type": "code",
   "execution_count": 23,
   "metadata": {},
   "outputs": [],
   "source": [
    "def testKsquared(data):\n",
    "    result = anderson(data, dist=\"norm\")\n",
    "    stat = round(result.statistic,2)\n",
    "    # Find the significance level matching alpha\n",
    "    for i in range(len(result.significance_level)):\n",
    "        sl, cv = result.significance_level[i], result.critical_values[i]\n",
    "        if sl/100 == alpha:\n",
    "            if stat < cv:\n",
    "                Gaussian = \"True\"\n",
    "            else:\n",
    "                Gaussian = \"False\"\n",
    "            return Gaussian, stat"
   ]
  },
  {
   "cell_type": "code",
   "execution_count": 28,
   "metadata": {},
   "outputs": [],
   "source": [
    "data = genData()"
   ]
  },
  {
   "cell_type": "code",
   "execution_count": 29,
   "metadata": {},
   "outputs": [
    {
     "name": "stdout",
     "output_type": "stream",
     "text": [
      "Test           Gaussian?      p-value\n",
      "shapiro        True           0.06\n",
      "normaltest     True           0.13\n",
      "K-squared      False          0.82\n"
     ]
    }
   ],
   "source": [
    "print(\"{:<15}{:<15}{}\".format(\"Test\", \"Gaussian?\", \"p-value\"))\n",
    "for m in methodList:\n",
    "    normal, p = testNormality(m, data)\n",
    "    print(\"{:<15}{:<15}{}\".format(m.__name__, normal, p))\n",
    "    \n",
    "normal, p = testKsquared(data)\n",
    "print(\"{:<15}{:<15}{}\".format(\"K-squared\", normal, p))"
   ]
  }
 ],
 "metadata": {
  "kernelspec": {
   "display_name": "Python 3",
   "language": "python",
   "name": "python3"
  },
  "language_info": {
   "codemirror_mode": {
    "name": "ipython",
    "version": 3
   },
   "file_extension": ".py",
   "mimetype": "text/x-python",
   "name": "python",
   "nbconvert_exporter": "python",
   "pygments_lexer": "ipython3",
   "version": "3.5.2"
  }
 },
 "nbformat": 4,
 "nbformat_minor": 2
}
