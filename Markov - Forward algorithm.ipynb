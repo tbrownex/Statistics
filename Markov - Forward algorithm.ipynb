{
 "cells": [
  {
   "cell_type": "code",
   "execution_count": 1,
   "metadata": {
    "collapsed": true,
    "deletable": true,
    "editable": true
   },
   "outputs": [],
   "source": [
    "import numpy  as np"
   ]
  },
  {
   "cell_type": "code",
   "execution_count": 2,
   "metadata": {
    "collapsed": true,
    "deletable": true,
    "editable": true
   },
   "outputs": [],
   "source": [
    "states  = ('Circle', 'Square')\n",
    "initial = {'Circle': 0.8, 'Square': 0.2}\n",
    "trans   = {'Circle': {'Circle': 0.6, 'Square': 0.4},\n",
    "           'Square': {'Circle': 0.3, 'Square': 0.7}}\n",
    "obs    = ('Red', 'Blue', 'White')\n",
    "corr = {'Circle': {'Red': 0.3, 'Blue': 0.4, 'White': 0.3},\n",
    "          'Square': {'Red': 0.4, 'Blue': 0.3, 'White': 0.3}}\n",
    "obs = ['Red', 'White', 'Blue', 'Blue']"
   ]
  },
  {
   "cell_type": "code",
   "execution_count": 3,
   "metadata": {
    "collapsed": true,
    "deletable": true,
    "editable": true
   },
   "outputs": [],
   "source": [
    "def viterbi(obs, states, start_p, trans_p, emit_p):\n",
    "    V = [{}]\n",
    "    for st in states:\n",
    "        V[0][st] = {\"prob\": start_p[st] * emit_p[st][obs[0]],\n",
    "                    \"prev\": None}\n",
    "        # Run Viterbi when t > 0\n",
    "    for t in range(1, len(obs)):\n",
    "        V.append({})\n",
    "        for st in states:\n",
    "            max_tr_prob = max(V[t-1][prev_st][\"prob\"]*trans_p[prev_st][st] for prev_st in states)\n",
    "            for prev_st in states:\n",
    "                if V[t-1][prev_st][\"prob\"] * trans_p[prev_st][st] == max_tr_prob:\n",
    "                    max_prob = max_tr_prob * emit_p[st][obs[t]]\n",
    "                    V[t][st] = {\"prob\": max_prob, \"prev\": prev_st}\n",
    "                    break\n",
    "    return V"
   ]
  },
  {
   "cell_type": "code",
   "execution_count": 26,
   "metadata": {
    "collapsed": false,
    "deletable": true,
    "editable": true
   },
   "outputs": [
    {
     "name": "stdout",
     "output_type": "stream",
     "text": [
      "[{'Fever': {'prob': 0.04000000000000001, 'prev': None}, 'Healthy': {'prob': 0.3, 'prev': None}}]\n"
     ]
    }
   ],
   "source": [
    "V = viterbi(obs,states,start_p, trans_p, emit_p)\n",
    "print(V)"
   ]
  },
  {
   "cell_type": "code",
   "execution_count": 27,
   "metadata": {
    "collapsed": false,
    "deletable": true,
    "editable": true
   },
   "outputs": [
    {
     "name": "stdout",
     "output_type": "stream",
     "text": [
      "Healthy 1\n",
      "0.3\n",
      "Fever 1\n",
      "0.04000000000000001\n",
      "Healthy 2\n"
     ]
    },
    {
     "ename": "KeyError",
     "evalue": "'Healthy'",
     "output_type": "error",
     "traceback": [
      "\u001b[0;31m---------------------------------------\u001b[0m",
      "\u001b[0;31mKeyError\u001b[0mTraceback (most recent call last)",
      "\u001b[0;32m<ipython-input-27-30b9a9f55296>\u001b[0m in \u001b[0;36m<module>\u001b[0;34m()\u001b[0m\n\u001b[1;32m      3\u001b[0m     \u001b[0;32mfor\u001b[0m \u001b[0mprev_st\u001b[0m \u001b[0;32min\u001b[0m \u001b[0mstates\u001b[0m\u001b[0;34m:\u001b[0m\u001b[0;34m\u001b[0m\u001b[0m\n\u001b[1;32m      4\u001b[0m         \u001b[0mprint\u001b[0m\u001b[0;34m(\u001b[0m\u001b[0mprev_st\u001b[0m\u001b[0;34m,\u001b[0m \u001b[0mt\u001b[0m\u001b[0;34m)\u001b[0m\u001b[0;34m\u001b[0m\u001b[0m\n\u001b[0;32m----> 5\u001b[0;31m         \u001b[0mprint\u001b[0m\u001b[0;34m(\u001b[0m\u001b[0mV\u001b[0m\u001b[0;34m[\u001b[0m\u001b[0mt\u001b[0m\u001b[0;34m-\u001b[0m\u001b[0;36m1\u001b[0m\u001b[0;34m]\u001b[0m\u001b[0;34m[\u001b[0m\u001b[0mprev_st\u001b[0m\u001b[0;34m]\u001b[0m\u001b[0;34m[\u001b[0m\u001b[0;34m\"prob\"\u001b[0m\u001b[0;34m]\u001b[0m\u001b[0;34m)\u001b[0m\u001b[0;34m\u001b[0m\u001b[0m\n\u001b[0m",
      "\u001b[0;31mKeyError\u001b[0m: 'Healthy'"
     ]
    }
   ],
   "source": [
    "for t in range(1, len(obs)):\n",
    "    V.append({})\n",
    "    for prev_st in states:\n",
    "        print(prev_st, t)\n",
    "        print(V[t-1][prev_st][\"prob\"])"
   ]
  },
  {
   "cell_type": "code",
   "execution_count": 22,
   "metadata": {
    "collapsed": false,
    "deletable": true,
    "editable": true
   },
   "outputs": [],
   "source": [
    "for t in range(1, len(obs)):\n",
    "    V.append({})\n",
    "    for st in states:\n",
    "        max_tr_prob = (V[t-1][prev_st][\"prob\"] for prev_st in states)\n",
    "        #max_tr_prob = max(V[t-1][prev_st][\"prob\"]*trans_p[prev_st][st] for prev_st in states)"
   ]
  },
  {
   "cell_type": "code",
   "execution_count": 20,
   "metadata": {
    "collapsed": false,
    "deletable": true,
    "editable": true
   },
   "outputs": [
    {
     "data": {
      "text/plain": [
       "{}"
      ]
     },
     "execution_count": 20,
     "metadata": {},
     "output_type": "execute_result"
    }
   ],
   "source": [
    "V[t-1]"
   ]
  },
  {
   "cell_type": "code",
   "execution_count": null,
   "metadata": {
    "collapsed": false,
    "deletable": true,
    "editable": true
   },
   "outputs": [],
   "source": [
    "'''    \n",
    "        \n",
    "15     for line in dptable(V):\n",
    "16         print line\n",
    "17     opt = []\n",
    "18     # The highest probability\n",
    "19     max_prob = max(value[\"prob\"] for value in V[-1].values())\n",
    "20     previous = None\n",
    "21     # Get most probable state and its backtrack\n",
    "22     for st, data in V[-1].items():\n",
    "23         if data[\"prob\"] == max_prob:\n",
    "24             opt.append(st)\n",
    "25             previous = st\n",
    "26             break\n",
    "27     # Follow the backtrack till the first observation\n",
    "28     for t in range(len(V) - 2, -1, -1):\n",
    "29         opt.insert(0, V[t + 1][previous][\"prev\"])\n",
    "30         previous = V[t + 1][previous][\"prev\"]\n",
    "31 \n",
    "32     print 'The steps of states are ' + ' '.join(opt) + ' with highest probability of %s' % max_prob\n",
    "33 \n",
    "34 def dptable(V):\n",
    "35     # Print a table of steps from dictionary\n",
    "36     yield \" \".join((\"%12d\" % i) for i in range(len(V)))\n",
    "37     for state in V[0]:\n",
    "38         yield \"%.7s: \" % state + \" \".join(\"%.7s\" % (\"%f\" % v[state][\"prob\"]) for v in V)\n",
    "'''"
   ]
  },
  {
   "cell_type": "code",
   "execution_count": null,
   "metadata": {
    "collapsed": true,
    "deletable": true,
    "editable": true
   },
   "outputs": [],
   "source": []
  }
 ],
 "metadata": {
  "kernelspec": {
   "display_name": "Python 3",
   "language": "python",
   "name": "python3"
  },
  "language_info": {
   "codemirror_mode": {
    "name": "ipython",
    "version": 3
   },
   "file_extension": ".py",
   "mimetype": "text/x-python",
   "name": "python",
   "nbconvert_exporter": "python",
   "pygments_lexer": "ipython3",
   "version": "3.5.2"
  }
 },
 "nbformat": 4,
 "nbformat_minor": 2
}
