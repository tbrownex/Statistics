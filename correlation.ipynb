{
 "cells": [
  {
   "cell_type": "markdown",
   "metadata": {
    "deletable": true,
    "editable": true
   },
   "source": [
    "#### 3 ways to calculate correlation:\n",
    "1) Pearson's\n",
    "2) Kendall's\n",
    "3) Spearman's"
   ]
  },
  {
   "cell_type": "code",
   "execution_count": 1,
   "metadata": {
    "collapsed": true,
    "deletable": true,
    "editable": true
   },
   "outputs": [],
   "source": [
    "import pandas as pd\n",
    "from scipy import stats\n",
    "import numpy as np\n",
    "import timeit\n",
    "\n",
    "import matplotlib.pyplot as plt"
   ]
  },
  {
   "cell_type": "code",
   "execution_count": 2,
   "metadata": {
    "collapsed": false,
    "deletable": true,
    "editable": true
   },
   "outputs": [],
   "source": [
    "def loop():\n",
    "    x = [np.random.randint(1,10) for i in range(1,11)]\n",
    "    y = [np.random.randint(1,10) for i in range(1,11)]\n",
    "\n",
    "    Pcoeff, Pp = stats.pearsonr(x, y)\n",
    "    Kcoeff, Kp = stats.kendalltau(x, y)\n",
    "    Scoeff, Sp = stats.spearmanr(x, y)\n",
    "    if Pcoeff < -.75:\n",
    "        results.append([Pcoeff, Pp, Kcoeff, Kp, Scoeff, Sp, x, y])\n",
    "    return"
   ]
  },
  {
   "cell_type": "code",
   "execution_count": 3,
   "metadata": {
    "collapsed": false,
    "deletable": true,
    "editable": true
   },
   "outputs": [
    {
     "name": "stdout",
     "output_type": "stream",
     "text": [
      "Number of records: 9\n"
     ]
    }
   ],
   "source": [
    "x = 0\n",
    "global results\n",
    "results = []\n",
    "\n",
    "start_time = timeit.default_timer()\n",
    "\n",
    "while x in range(1000):\n",
    "    loop()\n",
    "    x += 1\n",
    "print(\"Number of records: {}\".format(len(results)))"
   ]
  },
  {
   "cell_type": "code",
   "execution_count": 4,
   "metadata": {
    "collapsed": false,
    "deletable": true,
    "editable": true
   },
   "outputs": [
    {
     "data": {
      "text/html": [
       "<div>\n",
       "<table border=\"1\" class=\"dataframe\">\n",
       "  <thead>\n",
       "    <tr style=\"text-align: right;\">\n",
       "      <th></th>\n",
       "      <th>PearsonCoeff</th>\n",
       "      <th>PearsonP</th>\n",
       "      <th>KendallCoeff</th>\n",
       "      <th>KendallP</th>\n",
       "      <th>SpearmanCoeff</th>\n",
       "      <th>SpearmanP</th>\n",
       "      <th>X</th>\n",
       "      <th>Y</th>\n",
       "    </tr>\n",
       "  </thead>\n",
       "  <tbody>\n",
       "    <tr>\n",
       "      <th>0</th>\n",
       "      <td>-0.797732</td>\n",
       "      <td>0.005691</td>\n",
       "      <td>-0.602453</td>\n",
       "      <td>0.015316</td>\n",
       "      <td>-0.689454</td>\n",
       "      <td>0.027401</td>\n",
       "      <td>[4, 6, 8, 1, 5, 2, 6, 9, 8, 1]</td>\n",
       "      <td>[4, 5, 4, 8, 3, 7, 2, 4, 1, 8]</td>\n",
       "    </tr>\n",
       "    <tr>\n",
       "      <th>1</th>\n",
       "      <td>-0.832885</td>\n",
       "      <td>0.002774</td>\n",
       "      <td>-0.593725</td>\n",
       "      <td>0.016862</td>\n",
       "      <td>-0.749397</td>\n",
       "      <td>0.012589</td>\n",
       "      <td>[8, 7, 1, 7, 1, 8, 1, 7, 2, 6]</td>\n",
       "      <td>[5, 5, 6, 1, 8, 2, 9, 3, 8, 4]</td>\n",
       "    </tr>\n",
       "    <tr>\n",
       "      <th>2</th>\n",
       "      <td>-0.760153</td>\n",
       "      <td>0.010713</td>\n",
       "      <td>-0.734707</td>\n",
       "      <td>0.003105</td>\n",
       "      <td>-0.835127</td>\n",
       "      <td>0.002636</td>\n",
       "      <td>[7, 5, 1, 6, 4, 4, 2, 2, 7, 1]</td>\n",
       "      <td>[1, 4, 5, 3, 7, 5, 5, 5, 3, 9]</td>\n",
       "    </tr>\n",
       "    <tr>\n",
       "      <th>3</th>\n",
       "      <td>-0.827637</td>\n",
       "      <td>0.003119</td>\n",
       "      <td>-0.634146</td>\n",
       "      <td>0.010699</td>\n",
       "      <td>-0.795031</td>\n",
       "      <td>0.005980</td>\n",
       "      <td>[8, 6, 9, 9, 4, 2, 4, 8, 7, 2]</td>\n",
       "      <td>[3, 7, 2, 3, 4, 8, 7, 1, 1, 8]</td>\n",
       "    </tr>\n",
       "    <tr>\n",
       "      <th>4</th>\n",
       "      <td>-0.793196</td>\n",
       "      <td>0.006182</td>\n",
       "      <td>-0.618463</td>\n",
       "      <td>0.012801</td>\n",
       "      <td>-0.776338</td>\n",
       "      <td>0.008275</td>\n",
       "      <td>[9, 5, 2, 4, 2, 1, 9, 8, 2, 2]</td>\n",
       "      <td>[2, 6, 5, 6, 3, 9, 2, 1, 8, 7]</td>\n",
       "    </tr>\n",
       "    <tr>\n",
       "      <th>5</th>\n",
       "      <td>-0.776703</td>\n",
       "      <td>0.008225</td>\n",
       "      <td>-0.506695</td>\n",
       "      <td>0.041409</td>\n",
       "      <td>-0.684838</td>\n",
       "      <td>0.028886</td>\n",
       "      <td>[2, 9, 4, 3, 1, 5, 8, 4, 4, 9]</td>\n",
       "      <td>[8, 2, 9, 8, 8, 4, 1, 8, 3, 4]</td>\n",
       "    </tr>\n",
       "    <tr>\n",
       "      <th>6</th>\n",
       "      <td>-0.796819</td>\n",
       "      <td>0.005788</td>\n",
       "      <td>-0.709218</td>\n",
       "      <td>0.004310</td>\n",
       "      <td>-0.827453</td>\n",
       "      <td>0.003131</td>\n",
       "      <td>[1, 4, 4, 9, 6, 4, 4, 5, 7, 6]</td>\n",
       "      <td>[9, 7, 5, 2, 1, 8, 6, 4, 5, 3]</td>\n",
       "    </tr>\n",
       "    <tr>\n",
       "      <th>7</th>\n",
       "      <td>-0.775126</td>\n",
       "      <td>0.008442</td>\n",
       "      <td>-0.658869</td>\n",
       "      <td>0.008004</td>\n",
       "      <td>-0.777793</td>\n",
       "      <td>0.008077</td>\n",
       "      <td>[6, 8, 3, 2, 1, 4, 8, 9, 5, 3]</td>\n",
       "      <td>[6, 1, 4, 8, 9, 6, 5, 2, 3, 6]</td>\n",
       "    </tr>\n",
       "    <tr>\n",
       "      <th>8</th>\n",
       "      <td>-0.756448</td>\n",
       "      <td>0.011335</td>\n",
       "      <td>-0.582325</td>\n",
       "      <td>0.019088</td>\n",
       "      <td>-0.706628</td>\n",
       "      <td>0.022335</td>\n",
       "      <td>[1, 7, 4, 3, 3, 5, 1, 5, 1, 4]</td>\n",
       "      <td>[9, 2, 7, 4, 2, 2, 8, 4, 9, 1]</td>\n",
       "    </tr>\n",
       "  </tbody>\n",
       "</table>\n",
       "</div>"
      ],
      "text/plain": [
       "   PearsonCoeff  PearsonP  KendallCoeff  KendallP  SpearmanCoeff  SpearmanP  \\\n",
       "0     -0.797732  0.005691     -0.602453  0.015316      -0.689454   0.027401   \n",
       "1     -0.832885  0.002774     -0.593725  0.016862      -0.749397   0.012589   \n",
       "2     -0.760153  0.010713     -0.734707  0.003105      -0.835127   0.002636   \n",
       "3     -0.827637  0.003119     -0.634146  0.010699      -0.795031   0.005980   \n",
       "4     -0.793196  0.006182     -0.618463  0.012801      -0.776338   0.008275   \n",
       "5     -0.776703  0.008225     -0.506695  0.041409      -0.684838   0.028886   \n",
       "6     -0.796819  0.005788     -0.709218  0.004310      -0.827453   0.003131   \n",
       "7     -0.775126  0.008442     -0.658869  0.008004      -0.777793   0.008077   \n",
       "8     -0.756448  0.011335     -0.582325  0.019088      -0.706628   0.022335   \n",
       "\n",
       "                                X                               Y  \n",
       "0  [4, 6, 8, 1, 5, 2, 6, 9, 8, 1]  [4, 5, 4, 8, 3, 7, 2, 4, 1, 8]  \n",
       "1  [8, 7, 1, 7, 1, 8, 1, 7, 2, 6]  [5, 5, 6, 1, 8, 2, 9, 3, 8, 4]  \n",
       "2  [7, 5, 1, 6, 4, 4, 2, 2, 7, 1]  [1, 4, 5, 3, 7, 5, 5, 5, 3, 9]  \n",
       "3  [8, 6, 9, 9, 4, 2, 4, 8, 7, 2]  [3, 7, 2, 3, 4, 8, 7, 1, 1, 8]  \n",
       "4  [9, 5, 2, 4, 2, 1, 9, 8, 2, 2]  [2, 6, 5, 6, 3, 9, 2, 1, 8, 7]  \n",
       "5  [2, 9, 4, 3, 1, 5, 8, 4, 4, 9]  [8, 2, 9, 8, 8, 4, 1, 8, 3, 4]  \n",
       "6  [1, 4, 4, 9, 6, 4, 4, 5, 7, 6]  [9, 7, 5, 2, 1, 8, 6, 4, 5, 3]  \n",
       "7  [6, 8, 3, 2, 1, 4, 8, 9, 5, 3]  [6, 1, 4, 8, 9, 6, 5, 2, 3, 6]  \n",
       "8  [1, 7, 4, 3, 3, 5, 1, 5, 1, 4]  [9, 2, 7, 4, 2, 2, 8, 4, 9, 1]  "
      ]
     },
     "execution_count": 4,
     "metadata": {},
     "output_type": "execute_result"
    }
   ],
   "source": [
    "cols = ['PearsonCoeff', 'PearsonP', 'KendallCoeff', 'KendallP', 'SpearmanCoeff',\n",
    "        'SpearmanP', 'X', 'Y']\n",
    "\n",
    "df = pd.DataFrame(results)\n",
    "df.columns = cols\n",
    "df"
   ]
  },
  {
   "cell_type": "code",
   "execution_count": 66,
   "metadata": {
    "collapsed": false,
    "deletable": true,
    "editable": true
   },
   "outputs": [],
   "source": [
    "x = df.ix[1,'X']\n",
    "y = df.ix[1,'Y']"
   ]
  },
  {
   "cell_type": "code",
   "execution_count": 67,
   "metadata": {
    "collapsed": false,
    "deletable": true,
    "editable": true
   },
   "outputs": [],
   "source": [
    "tom = plt.scatter(x, y, color='red', marker='o', s=40)"
   ]
  },
  {
   "cell_type": "code",
   "execution_count": 68,
   "metadata": {
    "collapsed": false,
    "deletable": true,
    "editable": true
   },
   "outputs": [
    {
     "name": "stderr",
     "output_type": "stream",
     "text": [
      "/home/tom/anaconda3/envs/tensorflow/lib/python3.5/site-packages/matplotlib/axes/_axes.py:531: UserWarning: No labelled objects found. Use label='...' kwarg on individual plots.\n",
      "  warnings.warn(\"No labelled objects found. \"\n"
     ]
    },
    {
     "data": {
      "image/png": "[encoded data removed]",
      "text/plain": [
       "<matplotlib.figure.Figure at 0x7f826220e048>"
      ]
     },
     "metadata": {},
     "output_type": "display_data"
    }
   ],
   "source": [
    "plt.suptitle('Highly correlated lists', fontsize=15)\n",
    "plt.xlabel('X values', fontsize=12)\n",
    "plt.ylabel('Y values', fontsize=12)\n",
    "\n",
    "plt.legend(scatterpoints=1,\n",
    "           loc='lower right',\n",
    "           fontsize=20)\n",
    "plt.show()"
   ]
  },
  {
   "cell_type": "code",
   "execution_count": null,
   "metadata": {
    "collapsed": true,
    "deletable": true,
    "editable": true
   },
   "outputs": [],
   "source": []
  }
 ],
 "metadata": {
  "anaconda-cloud": {},
  "kernelspec": {
   "display_name": "Python 3",
   "language": "python",
   "name": "python3"
  },
  "language_info": {
   "codemirror_mode": {
    "name": "ipython",
    "version": 3
   },
   "file_extension": ".py",
   "mimetype": "text/x-python",
   "name": "python",
   "nbconvert_exporter": "python",
   "pygments_lexer": "ipython3",
   "version": "3.5.2"
  }
 },
 "nbformat": 4,
 "nbformat_minor": 0
}
