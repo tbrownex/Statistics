{
 "cells": [
  {
   "cell_type": "markdown",
   "metadata": {},
   "source": [
    "### One sample T-test\n",
    "#### First way shown is passing an array of the raw data. Second way is manual computation if you have all the values"
   ]
  },
  {
   "cell_type": "code",
   "execution_count": 3,
   "metadata": {
    "collapsed": true
   },
   "outputs": [],
   "source": [
    "import pandas as pd\n",
    "import numpy as np\n",
    "from scipy import stats\n",
    "from math import sqrt"
   ]
  },
  {
   "cell_type": "markdown",
   "metadata": {},
   "source": [
    "#### Data is the GPA of 22 random students. Determine if the GPA of these guys varies from the overall school GPA of 4.7"
   ]
  },
  {
   "cell_type": "code",
   "execution_count": 24,
   "metadata": {
    "collapsed": false
   },
   "outputs": [
    {
     "data": {
      "text/plain": [
       "0     5.0\n",
       "1     5.5\n",
       "2     4.5\n",
       "3     5.0\n",
       "4     5.0\n",
       "5     6.0\n",
       "6     5.0\n",
       "7     5.0\n",
       "8     4.5\n",
       "9     5.0\n",
       "10    5.0\n",
       "11    4.5\n",
       "12    4.5\n",
       "13    5.5\n",
       "14    4.0\n",
       "15    5.0\n",
       "16    5.0\n",
       "17    5.5\n",
       "18    4.5\n",
       "19    5.5\n",
       "20    5.0\n",
       "21    5.5\n",
       "Name: GPA, dtype: float64"
      ]
     },
     "execution_count": 24,
     "metadata": {},
     "output_type": "execute_result"
    }
   ],
   "source": [
    "INPUT_DIR = 'D:\\\\Data\\Python\\\\'\n",
    "file = 'GPAs.csv'\n",
    "df = pd.read_csv(INPUT_DIR + file)\n",
    "scores = df['GPA']"
   ]
  },
  {
   "cell_type": "markdown",
   "metadata": {},
   "source": [
    "#### Now call ttest_1samp"
   ]
  },
  {
   "cell_type": "code",
   "execution_count": 25,
   "metadata": {
    "collapsed": false
   },
   "outputs": [],
   "source": [
    "popmean = 4.7\n",
    "(t, p) = stats.ttest_1samp(scores, popmean)"
   ]
  },
  {
   "cell_type": "markdown",
   "metadata": {},
   "source": [
    "#### Looking for a P-value of less than .05  typically. If above that, then the two means should be considered equal"
   ]
  },
  {
   "cell_type": "code",
   "execution_count": 27,
   "metadata": {
    "collapsed": false
   },
   "outputs": [
    {
     "name": "stdout",
     "output_type": "stream",
     "text": [
      "T-statistic:  3.040\n",
      "    P-value:  0.006\n"
     ]
    }
   ],
   "source": [
    "print(\"T-statistic:  {:.3f}\".format(t))\n",
    "print(\"    P-value:  {:.3f}\".format(p))"
   ]
  },
  {
   "cell_type": "code",
   "execution_count": 11,
   "metadata": {
    "collapsed": false
   },
   "outputs": [
    {
     "name": "stdout",
     "output_type": "stream",
     "text": [
      "The t-statistic is 2.296 and the p-value is 0.047.\n"
     ]
    }
   ],
   "source": [
    "one_sample_data = [177.3, 182.7, 169.6, 176.3, 180.3, 179.4, 178.5, 177.2, 181.8, 176.5]\n",
    "one_sample = stats.ttest_1samp(one_sample_data, 175.3)\n",
    "\n",
    "print (\"The t-statistic is %.3f and the p-value is %.3f.\" % one_sample)"
   ]
  },
  {
   "cell_type": "code",
   "execution_count": 15,
   "metadata": {
    "collapsed": false
   },
   "outputs": [
    {
     "data": {
      "text/plain": [
       "10"
      ]
     },
     "execution_count": 15,
     "metadata": {},
     "output_type": "execute_result"
    }
   ],
   "source": [
    "np.size(one_sample_data)"
   ]
  },
  {
   "cell_type": "code",
   "execution_count": null,
   "metadata": {
    "collapsed": true
   },
   "outputs": [],
   "source": []
  },
  {
   "cell_type": "code",
   "execution_count": null,
   "metadata": {
    "collapsed": true
   },
   "outputs": [],
   "source": []
  },
  {
   "cell_type": "markdown",
   "metadata": {},
   "source": [
    "#### Compute the T-statistic"
   ]
  },
  {
   "cell_type": "code",
   "execution_count": 36,
   "metadata": {
    "collapsed": false
   },
   "outputs": [
    {
     "name": "stdout",
     "output_type": "stream",
     "text": [
      "For sample size 25\n",
      "T-statistic:  2.50\n",
      "    p-value:  99.0%\n"
     ]
    }
   ],
   "source": [
    "pop_mean = 68\n",
    "\n",
    "sample_mean = 70\n",
    "sample_std = 4\n",
    "sample_size = 25\n",
    "\n",
    "T = (sample_mean - pop_mean) / (sample_std / sqrt(sample_size))\n",
    "p = stats.t.cdf(T,sample_size)\n",
    "print(\"For sample size {}\".format(sample_size))\n",
    "print(\"{:>12}  {:.2f}\".format(\"T-statistic:\",T))\n",
    "print(\"{:>12}  {:.1%}\".format(\"p-value:\",p))"
   ]
  }
 ],
 "metadata": {
  "anaconda-cloud": {},
  "kernelspec": {
   "display_name": "Python [Root]",
   "language": "python",
   "name": "Python [Root]"
  },
  "language_info": {
   "codemirror_mode": {
    "name": "ipython",
    "version": 3
   },
   "file_extension": ".py",
   "mimetype": "text/x-python",
   "name": "python",
   "nbconvert_exporter": "python",
   "pygments_lexer": "ipython3",
   "version": "3.5.2"
  }
 },
 "nbformat": 4,
 "nbformat_minor": 0
}
