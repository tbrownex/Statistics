{
 "cells": [
  {
   "cell_type": "markdown",
   "metadata": {},
   "source": [
    "#### Paired T-test\n",
    "#### This is a \"before and after\" scenario, so dependent rather than independent variables\n",
    "#### The process is the same; just a different method to call"
   ]
  },
  {
   "cell_type": "code",
   "execution_count": 1,
   "metadata": {
    "collapsed": true
   },
   "outputs": [],
   "source": [
    "import pandas as pd\n",
    "import numpy as np\n",
    "from scipy import stats\n",
    "from math import sqrt"
   ]
  },
  {
   "cell_type": "code",
   "execution_count": 3,
   "metadata": {
    "collapsed": false
   },
   "outputs": [
    {
     "data": {
      "text/html": [
       "<div>\n",
       "<table border=\"1\" class=\"dataframe\">\n",
       "  <thead>\n",
       "    <tr style=\"text-align: right;\">\n",
       "      <th></th>\n",
       "      <th>Test</th>\n",
       "      <th>Score</th>\n",
       "    </tr>\n",
       "  </thead>\n",
       "  <tbody>\n",
       "    <tr>\n",
       "      <th>0</th>\n",
       "      <td>Pre</td>\n",
       "      <td>3</td>\n",
       "    </tr>\n",
       "    <tr>\n",
       "      <th>1</th>\n",
       "      <td>Pre</td>\n",
       "      <td>0</td>\n",
       "    </tr>\n",
       "    <tr>\n",
       "      <th>2</th>\n",
       "      <td>Pre</td>\n",
       "      <td>6</td>\n",
       "    </tr>\n",
       "    <tr>\n",
       "      <th>3</th>\n",
       "      <td>Pre</td>\n",
       "      <td>7</td>\n",
       "    </tr>\n",
       "    <tr>\n",
       "      <th>4</th>\n",
       "      <td>Pre</td>\n",
       "      <td>4</td>\n",
       "    </tr>\n",
       "  </tbody>\n",
       "</table>\n",
       "</div>"
      ],
      "text/plain": [
       "  Test  Score\n",
       "0  Pre      3\n",
       "1  Pre      0\n",
       "2  Pre      6\n",
       "3  Pre      7\n",
       "4  Pre      4"
      ]
     },
     "execution_count": 3,
     "metadata": {},
     "output_type": "execute_result"
    }
   ],
   "source": [
    "INPUT_DIR = 'D:\\\\Data\\Python\\\\'\n",
    "file = 'paired T-test.csv'\n",
    "df = pd.read_csv(INPUT_DIR + file)\n",
    "df.head()"
   ]
  },
  {
   "cell_type": "code",
   "execution_count": 4,
   "metadata": {
    "collapsed": false
   },
   "outputs": [
    {
     "name": "stdout",
     "output_type": "stream",
     "text": [
      "Type      Mean     Count      StdDev\n",
      "Pre       3.33      9         2.24      \n",
      "Post      7.00      9         3.04      \n"
     ]
    }
   ],
   "source": [
    "var = ['Pre', 'Post']        # These are the stores to study\n",
    "print(\"{}{:>10}{:>10}{:>12}\".format(\"Type\", \"Mean\", \"Count\", \"StdDev\"))\n",
    "\n",
    "for x in var:\n",
    "    print(\"{:<10}{:<10.2f}{:<10}{:<10.2f}\".format(x,\n",
    "                                              df.ix[df['Test'] == x]['Score'].mean(),\n",
    "                                              df.ix[df['Test'] == x]['Score'].count(),\n",
    "                                              df.ix[df['Test'] == x]['Score'].std()))"
   ]
  },
  {
   "cell_type": "markdown",
   "metadata": {},
   "source": [
    "#### Check if these values (above) are ok, if so, split out the 2 sets of scores into separate arrays (for sciPy)"
   ]
  },
  {
   "cell_type": "code",
   "execution_count": 5,
   "metadata": {
    "collapsed": false
   },
   "outputs": [],
   "source": [
    "var_list = []\n",
    "for x in range(len(var)):\n",
    "    var_list.append(df.ix[df['Test']== var[x]][\"Score\"])"
   ]
  },
  {
   "cell_type": "markdown",
   "metadata": {},
   "source": [
    "#### Now call ttest_rel rather than ttest_ind"
   ]
  },
  {
   "cell_type": "code",
   "execution_count": 6,
   "metadata": {
    "collapsed": false
   },
   "outputs": [],
   "source": [
    "(t, p) = stats.ttest_rel(var_list[0], var_list[1])"
   ]
  },
  {
   "cell_type": "markdown",
   "metadata": {},
   "source": [
    "#### Looking for a P-value of less than .05  typically. If above that, then the two means should be considered equal"
   ]
  },
  {
   "cell_type": "code",
   "execution_count": 7,
   "metadata": {
    "collapsed": false
   },
   "outputs": [
    {
     "name": "stdout",
     "output_type": "stream",
     "text": [
      "T-statistic:  -3.14\n",
      "    P-value:  0.0137\n"
     ]
    }
   ],
   "source": [
    "print(\"T-statistic:  {:.3}\".format(t))\n",
    "print(\"    P-value:  {:.3}\".format(p))"
   ]
  },
  {
   "cell_type": "markdown",
   "metadata": {},
   "source": [
    "#### So there is a 1.37% chance that this result (T-statistic of -3.14) would occur if the means were equal"
   ]
  },
  {
   "cell_type": "markdown",
   "metadata": {},
   "source": [
    "##### ***"
   ]
  },
  {
   "cell_type": "markdown",
   "metadata": {},
   "source": [
    "#### What is the 95% confidence interval?"
   ]
  },
  {
   "cell_type": "code",
   "execution_count": 8,
   "metadata": {
    "collapsed": true
   },
   "outputs": [],
   "source": [
    "diff = np.subtract(var_list[0],var_list[1])"
   ]
  },
  {
   "cell_type": "code",
   "execution_count": 9,
   "metadata": {
    "collapsed": false
   },
   "outputs": [
    {
     "name": "stdout",
     "output_type": "stream",
     "text": [
      "Mean of the differences is -3.67\n",
      "StdDev of the differences is 3.50\n",
      "Sample size is 9\n"
     ]
    }
   ],
   "source": [
    "std = diff.std()\n",
    "avg = diff.mean()\n",
    "print(\"Mean of the differences is {:.2f}\".format(avg))\n",
    "print(\"StdDev of the differences is {:.2f}\".format(std))\n",
    "print(\"Sample size is {}\".format(len(var_list[0])))"
   ]
  },
  {
   "cell_type": "markdown",
   "metadata": {},
   "source": [
    "#### T-value for 95% confidence interval and 8 degrees of freedom: 2.306"
   ]
  },
  {
   "cell_type": "code",
   "execution_count": 11,
   "metadata": {
    "collapsed": false
   },
   "outputs": [
    {
     "name": "stdout",
     "output_type": "stream",
     "text": [
      "95% confidence interval would be between -5.8 and -1.5\n"
     ]
    }
   ],
   "source": [
    "T = 1.86        # N = 8; confidence interval is 97.5%, not 95, \n",
    "lower = avg - (T * std) / np.sqrt(len(var_list[0]-1))\n",
    "upper = avg + (T * std) / np.sqrt(len(var_list[0]-1))\n",
    "print(\"95% confidence interval would be between {:.2} and {:.2}\".format(lower, upper))"
   ]
  },
  {
   "cell_type": "markdown",
   "metadata": {},
   "source": [
    "#### This means we are 95% certain that the mean difference between the 2 samples is between -5.8 and -1.5"
   ]
  }
 ],
 "metadata": {
  "anaconda-cloud": {},
  "kernelspec": {
   "display_name": "Python [Root]",
   "language": "python",
   "name": "Python [Root]"
  },
  "language_info": {
   "codemirror_mode": {
    "name": "ipython",
    "version": 3
   },
   "file_extension": ".py",
   "mimetype": "text/x-python",
   "name": "python",
   "nbconvert_exporter": "python",
   "pygments_lexer": "ipython3",
   "version": "3.5.2"
  }
 },
 "nbformat": 4,
 "nbformat_minor": 0
}
