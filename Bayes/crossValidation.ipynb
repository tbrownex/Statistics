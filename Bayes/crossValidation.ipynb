{
 "cells": [
  {
   "cell_type": "code",
   "execution_count": 26,
   "metadata": {},
   "outputs": [],
   "source": [
    "from sklearn.model_selection import KFold\n",
    "\n",
    "from getConfig  import getConfig\n",
    "from getArgs import getArgs\n",
    "from setLogging import setLogging\n",
    "from getData     import getData\n",
    "from splitData   import splitData\n",
    "from splitLabel  import splitLabel"
   ]
  },
  {
   "cell_type": "code",
   "execution_count": 27,
   "metadata": {},
   "outputs": [],
   "source": [
    "config = getConfig()"
   ]
  },
  {
   "cell_type": "code",
   "execution_count": 31,
   "metadata": {},
   "outputs": [],
   "source": [
    "df = getData(config)\n",
    "df = df.sample(frac=0.6)\n",
    "dataDict = splitData(df, config)\n",
    "dataDict = splitLabel(dataDict, config)"
   ]
  },
  {
   "cell_type": "code",
   "execution_count": 32,
   "metadata": {},
   "outputs": [],
   "source": [
    "kf = KFold(n_splits=6)"
   ]
  },
  {
   "cell_type": "code",
   "execution_count": 44,
   "metadata": {},
   "outputs": [
    {
     "name": "stdout",
     "output_type": "stream",
     "text": [
      "[ 22785  22786  22787 ... 136704 136705 136706] [    0     1     2 ... 22782 22783 22784]\n",
      "[     0      1      2 ... 136704 136705 136706] [22785 22786 22787 ... 45567 45568 45569]\n",
      "[     0      1      2 ... 136704 136705 136706] [45570 45571 45572 ... 68352 68353 68354]\n",
      "[     0      1      2 ... 136704 136705 136706] [68355 68356 68357 ... 91136 91137 91138]\n",
      "[     0      1      2 ... 136704 136705 136706] [ 91139  91140  91141 ... 113920 113921 113922]\n",
      "[     0      1      2 ... 113920 113921 113922] [113923 113924 113925 ... 136704 136705 136706]\n"
     ]
    }
   ],
   "source": [
    "for train_index, test_index in kf.split(dataDict[\"trainY\"]):\n",
    "    print(train_index, test_index)"
   ]
  },
  {
   "cell_type": "code",
   "execution_count": 38,
   "metadata": {},
   "outputs": [
    {
     "data": {
      "text/plain": [
       "(136707, 2)"
      ]
     },
     "execution_count": 38,
     "metadata": {},
     "output_type": "execute_result"
    }
   ],
   "source": [
    "dataDict[\"trainY\"].shape"
   ]
  },
  {
   "cell_type": "code",
   "execution_count": null,
   "metadata": {},
   "outputs": [],
   "source": []
  }
 ],
 "metadata": {
  "kernelspec": {
   "display_name": "Python 3",
   "language": "python",
   "name": "python3"
  },
  "language_info": {
   "codemirror_mode": {
    "name": "ipython",
    "version": 3
   },
   "file_extension": ".py",
   "mimetype": "text/x-python",
   "name": "python",
   "nbconvert_exporter": "python",
   "pygments_lexer": "ipython3",
   "version": "3.5.2"
  }
 },
 "nbformat": 4,
 "nbformat_minor": 2
}
