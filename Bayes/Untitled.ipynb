{
 "cells": [
  {
   "cell_type": "code",
   "execution_count": 1,
   "metadata": {},
   "outputs": [],
   "source": [
    "import os"
   ]
  },
  {
   "cell_type": "code",
   "execution_count": 3,
   "metadata": {},
   "outputs": [
    {
     "ename": "ModuleNotFoundError",
     "evalue": "No module named 'pandas'",
     "output_type": "error",
     "traceback": [
      "\u001b[0;31m---------------------------------------------------------------------------\u001b[0m",
      "\u001b[0;31mModuleNotFoundError\u001b[0m                       Traceback (most recent call last)",
      "\u001b[0;32m<ipython-input-3-7dd3504c366f>\u001b[0m in \u001b[0;36m<module>\u001b[0;34m\u001b[0m\n\u001b[0;32m----> 1\u001b[0;31m \u001b[0;32mimport\u001b[0m \u001b[0mpandas\u001b[0m \u001b[0;32mas\u001b[0m \u001b[0mpd\u001b[0m\u001b[0;34m\u001b[0m\u001b[0;34m\u001b[0m\u001b[0m\n\u001b[0m",
      "\u001b[0;31mModuleNotFoundError\u001b[0m: No module named 'pandas'"
     ]
    }
   ],
   "source": [
    "import pandas as pd"
   ]
  },
  {
   "cell_type": "code",
   "execution_count": 2,
   "metadata": {},
   "outputs": [
    {
     "name": "stdout",
     "output_type": "stream",
     "text": [
      "alabaster==0.7.12\r\n",
      "anaconda-client==1.7.2\r\n",
      "anaconda-navigator==1.9.12\r\n",
      "anaconda-project==0.8.3\r\n",
      "argh==0.26.2\r\n",
      "arviz==0.6.1\r\n",
      "asn1crypto==1.3.0\r\n",
      "astroid==2.3.3\r\n",
      "astropy==4.0\r\n",
      "atomicwrites==1.3.0\r\n",
      "attrs==19.3.0\r\n",
      "autopep8==1.4.4\r\n",
      "Babel==2.8.0\r\n",
      "backcall==0.1.0\r\n",
      "backports.functools-lru-cache==1.6.1\r\n",
      "backports.shutil-get-terminal-size==1.0.0\r\n",
      "backports.tempfile==1.0\r\n",
      "backports.weakref==1.0.post1\r\n",
      "beautifulsoup4==4.8.2\r\n",
      "bitarray==1.2.1\r\n",
      "bkcharts==0.2\r\n",
      "bleach==3.1.0\r\n",
      "bokeh==1.4.0\r\n",
      "boto==2.49.0\r\n",
      "Bottleneck==1.3.2\r\n",
      "certifi==2019.11.28\r\n",
      "cffi==1.14.0\r\n",
      "cftime==1.1.2\r\n",
      "chardet==3.0.4\r\n",
      "Click==7.0\r\n",
      "cloudpickle==1.3.0\r\n",
      "clyent==1.2.2\r\n",
      "colorama==0.4.3\r\n",
      "conda==4.8.3\r\n",
      "conda-build==3.18.11\r\n",
      "conda-package-handling==1.6.0\r\n",
      "conda-verify==3.4.2\r\n",
      "contextlib2==0.6.0.post1\r\n",
      "cryptography==2.8\r\n",
      "cycler==0.10.0\r\n",
      "Cython==0.29.15\r\n",
      "cytoolz==0.10.1\r\n",
      "dask==2.11.0\r\n",
      "decorator==4.4.1\r\n",
      "defusedxml==0.6.0\r\n",
      "diff-match-patch==20181111\r\n",
      "distributed==2.11.0\r\n",
      "docutils==0.16\r\n",
      "entrypoints==0.3\r\n",
      "et-xmlfile==1.0.1\r\n",
      "fastcache==1.1.0\r\n",
      "filelock==3.0.12\r\n",
      "flake8==3.7.9\r\n",
      "Flask==1.1.1\r\n",
      "fsspec==0.6.2\r\n",
      "future==0.18.2\r\n",
      "gevent==1.4.0\r\n",
      "glob2==0.7\r\n",
      "gmpy2==2.0.8\r\n",
      "greenlet==0.4.15\r\n",
      "h5py==2.10.0\r\n",
      "HeapDict==1.0.1\r\n",
      "html5lib==1.0.1\r\n",
      "hypothesis==5.5.4\r\n",
      "idna==2.8\r\n",
      "imageio==2.6.1\r\n",
      "imagesize==1.2.0\r\n",
      "importlib-metadata==1.5.0\r\n",
      "intervaltree==3.0.2\r\n",
      "ipykernel==5.1.4\r\n",
      "ipython==7.12.0\r\n",
      "ipython-genutils==0.2.0\r\n",
      "ipywidgets==7.5.1\r\n",
      "isort==4.3.21\r\n",
      "itsdangerous==1.1.0\r\n",
      "jdcal==1.4.1\r\n",
      "jedi==0.14.1\r\n",
      "jeepney==0.4.2\r\n",
      "Jinja2==2.11.1\r\n",
      "joblib==0.14.1\r\n",
      "json5==0.9.1\r\n",
      "jsonschema==3.2.0\r\n",
      "jupyter==1.0.0\r\n",
      "jupyter-client==5.3.4\r\n",
      "jupyter-console==6.1.0\r\n",
      "jupyter-core==4.6.1\r\n",
      "jupyterlab==1.2.6\r\n",
      "jupyterlab-server==1.0.6\r\n",
      "keyring==21.1.0\r\n",
      "kiwisolver==1.1.0\r\n",
      "lazy-object-proxy==1.4.3\r\n",
      "libarchive-c==2.8\r\n",
      "lief==0.9.0\r\n",
      "llvmlite==0.31.0\r\n",
      "locket==0.2.0\r\n",
      "lxml==4.5.0\r\n",
      "Mako==1.1.3\r\n",
      "MarkupSafe==1.1.1\r\n",
      "matplotlib==3.1.3\r\n",
      "mccabe==0.6.1\r\n",
      "mistune==0.8.4\r\n",
      "mkl-fft==1.0.15\r\n",
      "mkl-random==1.1.0\r\n",
      "mkl-service==2.3.0\r\n",
      "mock==4.0.1\r\n",
      "more-itertools==8.2.0\r\n",
      "mpmath==1.1.0\r\n",
      "msgpack==0.6.1\r\n",
      "multipledispatch==0.6.0\r\n",
      "navigator-updater==0.2.1\r\n",
      "nbconvert==5.6.1\r\n",
      "nbformat==5.0.4\r\n",
      "netCDF4==1.5.3\r\n",
      "networkx==2.4\r\n",
      "nltk==3.4.5\r\n",
      "nose==1.3.7\r\n",
      "notebook==6.0.3\r\n",
      "numba==0.48.0\r\n",
      "numexpr==2.7.1\r\n",
      "numpy==1.18.1\r\n",
      "numpydoc==0.9.2\r\n",
      "olefile==0.46\r\n",
      "openpyxl==3.0.3\r\n",
      "packaging==20.1\r\n",
      "pandas==1.0.1\r\n",
      "pandocfilters==1.4.2\r\n",
      "parso==0.5.2\r\n",
      "partd==1.1.0\r\n",
      "path==13.1.0\r\n",
      "pathlib2==2.3.5\r\n",
      "pathtools==0.1.2\r\n",
      "patsy==0.5.1\r\n",
      "pep8==1.7.1\r\n",
      "pexpect==4.8.0\r\n",
      "pickleshare==0.7.5\r\n",
      "Pillow==7.0.0\r\n",
      "pkginfo==1.5.0.1\r\n",
      "pluggy==0.13.1\r\n",
      "ply==3.11\r\n",
      "prometheus-client==0.7.1\r\n",
      "prompt-toolkit==3.0.3\r\n",
      "psutil==5.6.7\r\n",
      "ptyprocess==0.6.0\r\n",
      "py==1.8.1\r\n",
      "pycodestyle==2.5.0\r\n",
      "pycosat==0.6.3\r\n",
      "pycparser==2.19\r\n",
      "pycrypto==2.6.1\r\n",
      "pycurl==7.43.0.5\r\n",
      "pydocstyle==4.0.1\r\n",
      "pyflakes==2.1.1\r\n",
      "Pygments==2.5.2\r\n",
      "pygpu==0.7.6\r\n",
      "pylint==2.4.4\r\n",
      "pymc3==3.8\r\n",
      "pyodbc===4.0.0-unsupported\r\n",
      "pyOpenSSL==19.1.0\r\n",
      "pyparsing==2.4.6\r\n",
      "pyrsistent==0.15.7\r\n",
      "PySocks==1.7.1\r\n",
      "pytest==5.3.5\r\n",
      "pytest-arraydiff==0.3\r\n",
      "pytest-astropy==0.8.0\r\n",
      "pytest-astropy-header==0.1.2\r\n",
      "pytest-doctestplus==0.5.0\r\n",
      "pytest-openfiles==0.4.0\r\n",
      "pytest-remotedata==0.3.2\r\n",
      "python-dateutil==2.8.1\r\n",
      "python-jsonrpc-server==0.3.4\r\n",
      "python-language-server==0.31.7\r\n",
      "pytz==2019.3\r\n",
      "PyWavelets==1.1.1\r\n",
      "pyxdg==0.26\r\n",
      "PyYAML==5.3\r\n",
      "pyzmq==18.1.1\r\n",
      "QDarkStyle==2.8\r\n",
      "QtAwesome==0.6.1\r\n",
      "qtconsole==4.6.0\r\n",
      "QtPy==1.9.0\r\n",
      "requests==2.22.0\r\n",
      "rope==0.16.0\r\n",
      "Rtree==0.9.3\r\n",
      "ruamel-yaml==0.15.87\r\n",
      "scikit-image==0.16.2\r\n",
      "scikit-learn==0.22.1\r\n",
      "scipy==1.4.1\r\n",
      "seaborn==0.10.0\r\n",
      "SecretStorage==3.1.2\r\n",
      "Send2Trash==1.5.0\r\n",
      "simplegeneric==0.8.1\r\n",
      "singledispatch==3.4.0.3\r\n",
      "six==1.14.0\r\n",
      "snowballstemmer==2.0.0\r\n",
      "sortedcollections==1.1.2\r\n",
      "sortedcontainers==2.1.0\r\n",
      "soupsieve==1.9.5\r\n",
      "Sphinx==2.4.0\r\n",
      "sphinxcontrib-applehelp==1.0.1\r\n",
      "sphinxcontrib-devhelp==1.0.1\r\n",
      "sphinxcontrib-htmlhelp==1.0.2\r\n",
      "sphinxcontrib-jsmath==1.0.1\r\n",
      "sphinxcontrib-qthelp==1.0.2\r\n",
      "sphinxcontrib-serializinghtml==1.1.3\r\n",
      "sphinxcontrib-websupport==1.2.0\r\n",
      "spyder==4.0.1\r\n",
      "spyder-kernels==1.8.1\r\n",
      "SQLAlchemy==1.3.13\r\n",
      "statsmodels==0.11.0\r\n",
      "sympy==1.5.1\r\n",
      "tables==3.6.1\r\n",
      "tblib==1.6.0\r\n",
      "terminado==0.8.3\r\n",
      "testpath==0.4.4\r\n",
      "Theano==1.0.4\r\n",
      "toolz==0.10.0\r\n",
      "tornado==6.0.3\r\n",
      "tqdm==4.42.1\r\n",
      "traitlets==4.3.3\r\n",
      "ujson==1.35\r\n",
      "unicodecsv==0.14.1\r\n",
      "urllib3==1.25.8\r\n",
      "watchdog==0.10.2\r\n",
      "wcwidth==0.1.8\r\n",
      "webencodings==0.5.1\r\n",
      "Werkzeug==1.0.0\r\n",
      "widgetsnbextension==3.5.1\r\n",
      "wrapt==1.11.2\r\n",
      "wurlitzer==2.0.0\r\n",
      "xarray==0.15.1\r\n",
      "xlrd==1.2.0\r\n",
      "XlsxWriter==1.2.7\r\n",
      "xlwt==1.3.0\r\n",
      "xmltodict==0.12.0\r\n",
      "yapf==0.28.0\r\n",
      "zict==1.0.0\r\n",
      "zipp==2.2.0\r\n"
     ]
    }
   ],
   "source": [
    "!pip freeze"
   ]
  },
  {
   "cell_type": "code",
   "execution_count": 14,
   "metadata": {},
   "outputs": [],
   "source": [
    "import matplotlib.pyplot as plt\n",
    "\n",
    "import scipy.stats"
   ]
  },
  {
   "cell_type": "code",
   "execution_count": 8,
   "metadata": {},
   "outputs": [
    {
     "ename": "NameError",
     "evalue": "name 'scipy' is not defined",
     "output_type": "error",
     "traceback": [
      "\u001b[0;31m---------------------------------------------------------------------------\u001b[0m",
      "\u001b[0;31mNameError\u001b[0m                                 Traceback (most recent call last)",
      "\u001b[0;32m<ipython-input-8-2f476ab28d95>\u001b[0m in \u001b[0;36m<module>\u001b[0;34m()\u001b[0m\n\u001b[1;32m      1\u001b[0m \u001b[0;31m# Create a Normal distribution\u001b[0m\u001b[0;34m\u001b[0m\u001b[0;34m\u001b[0m\u001b[0m\n\u001b[0;32m----> 2\u001b[0;31m \u001b[0mdist\u001b[0m \u001b[0;34m=\u001b[0m \u001b[0mscipy\u001b[0m\u001b[0;34m.\u001b[0m\u001b[0mstats\u001b[0m\u001b[0;34m.\u001b[0m\u001b[0mnorm\u001b[0m\u001b[0;34m(\u001b[0m\u001b[0mloc\u001b[0m\u001b[0;34m=\u001b[0m\u001b[0;36m0\u001b[0m\u001b[0;34m,\u001b[0m\u001b[0mscale\u001b[0m\u001b[0;34m=\u001b[0m\u001b[0;36m1\u001b[0m\u001b[0;34m)\u001b[0m\u001b[0;34m\u001b[0m\u001b[0m\n\u001b[0m",
      "\u001b[0;31mNameError\u001b[0m: name 'scipy' is not defined"
     ]
    }
   ],
   "source": [
    "# Create a Normal distribution\n",
    "dist = scipy.stats.norm(loc=0,scale=1)"
   ]
  },
  {
   "cell_type": "code",
   "execution_count": 6,
   "metadata": {},
   "outputs": [
    {
     "name": "stdout",
     "output_type": "stream",
     "text": [
      "A will occur 2.0% times as often as B\n"
     ]
    }
   ],
   "source": [
    "# Compare the relative likelihood of getting two different numbers\n",
    "A = 0.\n",
    "B = 0.20\n",
    "ratio = dist.pdf(A)/dist.pdf(B)\n",
    "ratio -= 1.0\n",
    "print(\"A will occur {:.1%} times as often as B\".format(ratio))"
   ]
  },
  {
   "cell_type": "code",
   "execution_count": 7,
   "metadata": {},
   "outputs": [
    {
     "data": {
      "text/plain": [
       "0.863170684672942"
      ]
     },
     "execution_count": 7,
     "metadata": {},
     "output_type": "execute_result"
    }
   ],
   "source": [
    "dist.cdf(A)/dist.cdf(B)"
   ]
  },
  {
   "cell_type": "code",
   "execution_count": 8,
   "metadata": {},
   "outputs": [
    {
     "data": {
      "text/plain": [
       "0.07925970943910299"
      ]
     },
     "execution_count": 8,
     "metadata": {},
     "output_type": "execute_result"
    }
   ],
   "source": [
    "dist.cdf(B) - dist.cdf(A)"
   ]
  },
  {
   "cell_type": "code",
   "execution_count": 48,
   "metadata": {},
   "outputs": [],
   "source": [
    "rand = dist.rvs(size=100000)\n",
    "\n",
    "tom = np.histogram(rand, bins=200)"
   ]
  },
  {
   "cell_type": "code",
   "execution_count": 47,
   "metadata": {},
   "outputs": [],
   "source": [
    "A1 = np.searchsorted(tom[1], A)\n",
    "B1 = np.searchsorted(tom[1], B)"
   ]
  },
  {
   "cell_type": "code",
   "execution_count": 41,
   "metadata": {},
   "outputs": [
    {
     "name": "stdout",
     "output_type": "stream",
     "text": [
      "A ranges from 0.18 to 0.23\n",
      "B ranges from 0.37 to 0.41\n"
     ]
    }
   ],
   "source": [
    "print(\"A ranges from {:.2f} to {:.2f}\".format(tom[1][A1-1],tom[1][A1]))\n",
    "print(\"B ranges from {:.2f} to {:.2f}\".format(tom[1][B1-1],tom[1][B1]))"
   ]
  },
  {
   "cell_type": "code",
   "execution_count": 44,
   "metadata": {},
   "outputs": [
    {
     "data": {
      "text/plain": [
       "[<matplotlib.lines.Line2D at 0x7f7240900048>]"
      ]
     },
     "execution_count": 44,
     "metadata": {},
     "output_type": "execute_result"
    },
    {
     "data": {
      "image/png": "[encoded data removed]",
      "text/plain": [
       "<Figure size 432x288 with 1 Axes>"
      ]
     },
     "metadata": {},
     "output_type": "display_data"
    }
   ],
   "source": [
    "X = np.linspace(start=-3, stop=3, num=60)\n",
    "plt.plot(X, dist.pdf(X), 'r-', lw=2)"
   ]
  },
  {
   "cell_type": "code",
   "execution_count": null,
   "metadata": {},
   "outputs": [],
   "source": []
  }
 ],
 "metadata": {
  "kernelspec": {
   "display_name": "Python 3",
   "language": "python",
   "name": "python3"
  },
  "language_info": {
   "codemirror_mode": {
    "name": "ipython",
    "version": 3
   },
   "file_extension": ".py",
   "mimetype": "text/x-python",
   "name": "python",
   "nbconvert_exporter": "python",
   "pygments_lexer": "ipython3",
   "version": "3.6.10"
  }
 },
 "nbformat": 4,
 "nbformat_minor": 2
}
