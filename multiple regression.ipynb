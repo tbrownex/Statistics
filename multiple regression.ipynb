{
 "cells": [
  {
   "cell_type": "code",
   "execution_count": 1,
   "metadata": {},
   "outputs": [],
   "source": [
    "import pandas as pd\n",
    "import numpy as np\n",
    "from scipy.stats.stats import pearsonr"
   ]
  },
  {
   "cell_type": "code",
   "execution_count": 2,
   "metadata": {},
   "outputs": [
    {
     "data": {
      "text/plain": [
       "(5, 3)"
      ]
     },
     "execution_count": 2,
     "metadata": {},
     "output_type": "execute_result"
    }
   ],
   "source": [
    "INPUT_DIR = 'D:\\\\Data\\Python\\\\'\n",
    "file = 'multiple regression.csv'\n",
    "f1 = pd.read_csv(INPUT_DIR + file)\n",
    "f1.shape"
   ]
  },
  {
   "cell_type": "markdown",
   "metadata": {},
   "source": [
    "#### We're trying to get Sales as a function of Education and Motivation. First step is to get the correlation coefficients (R) between 3 variables.\n",
    "\n",
    "#### There are several ways to do this: pandas, NumPy, SciPy and \"linregress\" all have methods to determine correlation between variables.\n",
    "#### here is numPy \"corrcoeff\":"
   ]
  },
  {
   "cell_type": "code",
   "execution_count": 3,
   "metadata": {},
   "outputs": [
    {
     "data": {
      "text/plain": [
       "array([[ 1.        ,  0.96818996,  0.87988229],\n",
       "       [ 0.96818996,  1.        ,  0.77223464],\n",
       "       [ 0.87988229,  0.77223464,  1.        ]])"
      ]
     },
     "execution_count": 3,
     "metadata": {},
     "output_type": "execute_result"
    }
   ],
   "source": [
    "# rowvar identifies whether the variables and observations are in rows/columns or columns/rows\n",
    "Rcoeff = np.corrcoef(f1, rowvar=0)        \n",
    "Rcoeff                                  # output is a numPy array"
   ]
  },
  {
   "cell_type": "code",
   "execution_count": 4,
   "metadata": {},
   "outputs": [
    {
     "name": "stdout",
     "output_type": "stream",
     "text": [
      "                                        R-value\n",
      "EducationLevel   and MotivationScore     0.968\n",
      "EducationLevel   and Sales               0.880\n",
      "MotivationScore  and Sales               0.772\n"
     ]
    }
   ],
   "source": [
    "print(\"{:>47}\".format(\"R-value\"))\n",
    "for x in range(len(Rcoeff)-1):\n",
    "    for y in range(x+1, f1.columns.size):\n",
    "        print(\"{:<16} and {:<20}{:.3f}\".format(f1.columns[x], f1.columns[y], Rcoeff[x][y]))"
   ]
  },
  {
   "cell_type": "markdown",
   "metadata": {},
   "source": [
    "#### pandas \"corr\""
   ]
  },
  {
   "cell_type": "code",
   "execution_count": 6,
   "metadata": {},
   "outputs": [],
   "source": [
    "tom = f1.corr()           # output is a datframe"
   ]
  },
  {
   "cell_type": "code",
   "execution_count": 13,
   "metadata": {},
   "outputs": [
    {
     "data": {
      "text/plain": [
       "statsmodels.regression.linear_model.RegressionResultsWrapper"
      ]
     },
     "execution_count": 13,
     "metadata": {},
     "output_type": "execute_result"
    }
   ],
   "source": [
    "from statsmodels.formula.api import ols\n",
    "model = ols(\"Sales ~ EducationLevel + MotivationScore\", data=f1).fit()\n",
    "type(model)"
   ]
  },
  {
   "cell_type": "code",
   "execution_count": 14,
   "metadata": {},
   "outputs": [
    {
     "name": "stdout",
     "output_type": "stream",
     "text": [
      "Intercept          56200.493088\n",
      "EducationLevel     34108.624424\n",
      "MotivationScore    -3490.679724\n",
      "dtype: float64\n"
     ]
    }
   ],
   "source": [
    "print(model.params)"
   ]
  },
  {
   "cell_type": "code",
   "execution_count": 15,
   "metadata": {},
   "outputs": [
    {
     "name": "stderr",
     "output_type": "stream",
     "text": [
      "C:\\Users\\Tom\\Anaconda3\\lib\\site-packages\\statsmodels\\stats\\stattools.py:72: UserWarning: omni_normtest is not valid with less than 8 observations; 5 samples were given.\n",
      "  \"samples were given.\" % int(n))\n"
     ]
    },
    {
     "name": "stdout",
     "output_type": "stream",
     "text": [
      "                            OLS Regression Results                            \n",
      "==============================================================================\n",
      "Dep. Variable:                  Sales   R-squared:                       0.876\n",
      "Model:                            OLS   Adj. R-squared:                  0.751\n",
      "Method:                 Least Squares   F-statistic:                     7.035\n",
      "Date:                Fri, 07 Oct 2016   Prob (F-statistic):              0.124\n",
      "Time:                        08:58:20   Log-Likelihood:                -53.800\n",
      "No. Observations:                   5   AIC:                             113.6\n",
      "Df Residuals:                       2   BIC:                             112.4\n",
      "Df Model:                           2                                         \n",
      "Covariance Type:            nonrobust                                         \n",
      "===================================================================================\n",
      "                      coef    std err          t      P>|t|      [95.0% Conf. Int.]\n",
      "-----------------------------------------------------------------------------------\n",
      "Intercept         5.62e+04   1.25e+05      0.448      0.698     -4.84e+05  5.96e+05\n",
      "EducationLevel   3.411e+04   1.61e+04      2.118      0.168     -3.52e+04  1.03e+05\n",
      "MotivationScore -3490.6797   2735.168     -1.276      0.330     -1.53e+04  8277.797\n",
      "==============================================================================\n",
      "Omnibus:                          nan   Durbin-Watson:                   2.153\n",
      "Prob(Omnibus):                    nan   Jarque-Bera (JB):                0.556\n",
      "Skew:                           0.506   Prob(JB):                        0.757\n",
      "Kurtosis:                       1.718   Cond. No.                         773.\n",
      "==============================================================================\n",
      "\n",
      "Warnings:\n",
      "[1] Standard Errors assume that the covariance matrix of the errors is correctly specified.\n"
     ]
    }
   ],
   "source": [
    "print(model.summary())"
   ]
  },
  {
   "cell_type": "code",
   "execution_count": null,
   "metadata": {
    "collapsed": true
   },
   "outputs": [],
   "source": []
  }
 ],
 "metadata": {
  "kernelspec": {
   "display_name": "Python 3",
   "language": "python",
   "name": "python3"
  },
  "language_info": {
   "codemirror_mode": {
    "name": "ipython",
    "version": 3
   },
   "file_extension": ".py",
   "mimetype": "text/x-python",
   "name": "python",
   "nbconvert_exporter": "python",
   "pygments_lexer": "ipython3",
   "version": "3.5.2"
  }
 },
 "nbformat": 4,
 "nbformat_minor": 1
}
