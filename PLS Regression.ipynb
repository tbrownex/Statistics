{
 "cells": [
  {
   "cell_type": "code",
   "execution_count": null,
   "metadata": {},
   "outputs": [],
   "source": [
    "#import numpy as np\n",
    "import matplotlib.pyplot as plt\n",
    "from sklearn.cross_decomposition import PLSCanonical, PLSRegression, CCA"
   ]
  },
  {
   "cell_type": "code",
   "execution_count": 13,
   "metadata": {},
   "outputs": [
    {
     "name": "stdout",
     "output_type": "stream",
     "text": [
      "Estimated betas\n",
      "[[ 0.9]\n",
      " [ 2. ]\n",
      " [ 0. ]\n",
      " [ 0. ]\n",
      " [ 0. ]\n",
      " [ 0. ]\n",
      " [-0. ]\n",
      " [-0. ]\n",
      " [ 0. ]\n",
      " [-0.1]]\n"
     ]
    }
   ],
   "source": [
    "# PLS regression, with univariate response, a.k.a. PLS1\n",
    "\n",
    "n = 1000\n",
    "p = 10\n",
    "X = np.random.normal(size=n * p).reshape((n, p))\n",
    "y = X[:, 0] + 2 * X[:, 1] + np.random.normal(size=n * 1) + 5\n",
    "pls1 = PLSRegression(n_components=3)\n",
    "pls1.fit(X, y)\n",
    "# note that the number of components exceeds 1 (the dimension of y)\n",
    "print(\"Estimated betas\")\n",
    "print(np.round(pls1.coef_, 1))"
   ]
  },
  {
   "cell_type": "code",
   "execution_count": null,
   "metadata": {},
   "outputs": [],
   "source": [
    "# #############################################################################\n",
    "# PLS regression, with multivariate response, a.k.a. PLS2\n",
    "\n",
    "n = 1000\n",
    "q = 3\n",
    "p = 10\n",
    "X = np.random.normal(size=n * p).reshape((n, p))\n",
    "B = np.array([[1, 2] + [0] * (p - 2)] * q).T\n",
    "# each Yj = 1*X1 + 2*X2 + noize\n",
    "Y = np.dot(X, B) + np.random.normal(size=n * q).reshape((n, q)) + 5\n",
    "\n",
    "pls2 = PLSRegression(n_components=3)\n",
    "pls2.fit(X, Y)\n",
    "print(\"True B (such that: Y = XB + Err)\")\n",
    "print(B)\n",
    "# compare pls2.coef_ with B\n",
    "print(\"Estimated B\")\n",
    "print(np.round(pls2.coef_, 1))\n",
    "pls2.predict(X)"
   ]
  },
  {
   "cell_type": "code",
   "execution_count": null,
   "metadata": {},
   "outputs": [],
   "source": [
    "# #############################################################################\n",
    "# CCA (PLS mode B with symmetric deflation)\n",
    "\n",
    "cca = CCA(n_components=2)\n",
    "cca.fit(X_train, Y_train)\n",
    "X_train_r, Y_train_r = cca.transform(X_train, Y_train)\n",
    "X_test_r, Y_test_r = cca.transform(X_test, Y_test)"
   ]
  },
  {
   "cell_type": "code",
   "execution_count": 4,
   "metadata": {},
   "outputs": [],
   "source": [
    "n = 500\n",
    "# 2 latents vars:\n",
    "l1 = np.random.normal(size=n)\n",
    "l2 = np.random.normal(size=n)\n",
    "\n",
    "latents = np.array([l1, l1, l2, l2]).T\n",
    "X = latents + np.random.normal(size=4 * n).reshape((n, 4))\n",
    "Y = latents + np.random.normal(size=4 * n).reshape((n, 4))"
   ]
  },
  {
   "cell_type": "code",
   "execution_count": 7,
   "metadata": {},
   "outputs": [],
   "source": [
    "X_train = X[:n // 2]\n",
    "Y_train = Y[:n // 2]\n",
    "X_test = X[n // 2:]\n",
    "Y_test = Y[n // 2:]"
   ]
  },
  {
   "cell_type": "code",
   "execution_count": 12,
   "metadata": {},
   "outputs": [
    {
     "name": "stdout",
     "output_type": "stream",
     "text": [
      "Corr(X)\n",
      "[[ 1.    0.55 -0.05 -0.  ]\n",
      " [ 0.55  1.   -0.07 -0.04]\n",
      " [-0.05 -0.07  1.    0.5 ]\n",
      " [-0.   -0.04  0.5   1.  ]]\n",
      "Corr(Y)\n",
      "[[ 1.    0.54 -0.   -0.03]\n",
      " [ 0.54  1.    0.01 -0.06]\n",
      " [-0.    0.01  1.    0.54]\n",
      " [-0.03 -0.06  0.54  1.  ]]\n"
     ]
    }
   ],
   "source": [
    "print(\"Corr(X)\")\n",
    "print(np.round(np.corrcoef(X.T), 2))\n",
    "print(\"Corr(Y)\")\n",
    "print(np.round(np.corrcoef(Y.T), 2))"
   ]
  },
  {
   "cell_type": "code",
   "execution_count": null,
   "metadata": {},
   "outputs": [],
   "source": [
    "# Canonical (symmetric) PLS\n",
    "\n",
    "# Transform data\n",
    "# ~~~~~~~~~~~~~~\n",
    "plsca = PLSCanonical(n_components=2)\n",
    "plsca.fit(X_train, Y_train)\n",
    "X_train_r, Y_train_r = plsca.transform(X_train, Y_train)\n",
    "X_test_r, Y_test_r = plsca.transform(X_test, Y_test)\n",
    "\n",
    "# Scatter plot of scores\n",
    "# ~~~~~~~~~~~~~~~~~~~~~~\n",
    "# 1) On diagonal plot X vs Y scores on each components\n",
    "plt.figure(figsize=(12, 8))\n",
    "plt.subplot(221)\n",
    "plt.scatter(X_train_r[:, 0], Y_train_r[:, 0], label=\"train\",\n",
    "            marker=\"o\", c=\"b\", s=25)\n",
    "plt.scatter(X_test_r[:, 0], Y_test_r[:, 0], label=\"test\",\n",
    "            marker=\"o\", c=\"r\", s=25)\n",
    "plt.xlabel(\"x scores\")\n",
    "plt.ylabel(\"y scores\")\n",
    "plt.title('Comp. 1: X vs Y (test corr = %.2f)' %\n",
    "          np.corrcoef(X_test_r[:, 0], Y_test_r[:, 0])[0, 1])\n",
    "plt.xticks(())\n",
    "plt.yticks(())\n",
    "plt.legend(loc=\"best\")\n",
    "\n",
    "plt.subplot(224)\n",
    "plt.scatter(X_train_r[:, 1], Y_train_r[:, 1], label=\"train\",\n",
    "            marker=\"o\", c=\"b\", s=25)\n",
    "plt.scatter(X_test_r[:, 1], Y_test_r[:, 1], label=\"test\",\n",
    "            marker=\"o\", c=\"r\", s=25)\n",
    "plt.xlabel(\"x scores\")\n",
    "plt.ylabel(\"y scores\")\n",
    "plt.title('Comp. 2: X vs Y (test corr = %.2f)' %\n",
    "          np.corrcoef(X_test_r[:, 1], Y_test_r[:, 1])[0, 1])\n",
    "plt.xticks(())\n",
    "plt.yticks(())\n",
    "plt.legend(loc=\"best\")\n",
    "\n",
    "# 2) Off diagonal plot components 1 vs 2 for X and Y\n",
    "plt.subplot(222)\n",
    "plt.scatter(X_train_r[:, 0], X_train_r[:, 1], label=\"train\",\n",
    "            marker=\"*\", c=\"b\", s=50)\n",
    "plt.scatter(X_test_r[:, 0], X_test_r[:, 1], label=\"test\",\n",
    "            marker=\"*\", c=\"r\", s=50)\n",
    "plt.xlabel(\"X comp. 1\")\n",
    "plt.ylabel(\"X comp. 2\")\n",
    "plt.title('X comp. 1 vs X comp. 2 (test corr = %.2f)'\n",
    "          % np.corrcoef(X_test_r[:, 0], X_test_r[:, 1])[0, 1])\n",
    "plt.legend(loc=\"best\")\n",
    "plt.xticks(())\n",
    "plt.yticks(())\n",
    "\n",
    "plt.subplot(223)\n",
    "plt.scatter(Y_train_r[:, 0], Y_train_r[:, 1], label=\"train\",\n",
    "            marker=\"*\", c=\"b\", s=50)\n",
    "plt.scatter(Y_test_r[:, 0], Y_test_r[:, 1], label=\"test\",\n",
    "            marker=\"*\", c=\"r\", s=50)\n",
    "plt.xlabel(\"Y comp. 1\")\n",
    "plt.ylabel(\"Y comp. 2\")\n",
    "plt.title('Y comp. 1 vs Y comp. 2 , (test corr = %.2f)'\n",
    "          % np.corrcoef(Y_test_r[:, 0], Y_test_r[:, 1])[0, 1])\n",
    "plt.legend(loc=\"best\")\n",
    "plt.xticks(())\n",
    "plt.yticks(())\n",
    "plt.show()"
   ]
  },
  {
   "cell_type": "code",
   "execution_count": 43,
   "metadata": {},
   "outputs": [],
   "source": [
    "tm.N = 100\n",
    "tm.K = 3"
   ]
  },
  {
   "cell_type": "code",
   "execution_count": 133,
   "metadata": {},
   "outputs": [
    {
     "data": {
      "text/plain": [
       "2000-01-31    1.079350\n",
       "2000-02-29   -1.331052\n",
       "2000-03-31    1.202268\n",
       "2000-04-30   -2.635656\n",
       "2000-05-31    1.131141\n",
       "2000-06-30   -0.227005\n",
       "2000-07-31   -0.398874\n",
       "2000-08-31    2.030880\n",
       "2000-09-30    4.258601\n",
       "2000-10-31    2.924618\n",
       "2000-11-30   -3.266468\n",
       "2000-12-31    3.044596\n",
       "2001-01-31   -0.001491\n",
       "2001-02-28   -0.102073\n",
       "2001-03-31   -2.072657\n",
       "2001-04-30    0.837028\n",
       "2001-05-31    2.093933\n",
       "2001-06-30   -0.726256\n",
       "2001-07-31   -0.011939\n",
       "2001-08-31   -1.391054\n",
       "2001-09-30   -2.773270\n",
       "2001-10-31    3.309713\n",
       "2001-11-30   -1.743261\n",
       "Freq: M, Name: A, dtype: float64"
      ]
     },
     "execution_count": 133,
     "metadata": {},
     "output_type": "execute_result"
    }
   ],
   "source": [
    "idx = tm.makeDateIndex(k=100,freq=\"w\")\n",
    "df  = tm.makeDataFrame()\n",
    "df.index=idx\n",
    "\n",
    "df[\"A\"].resample('m').sum()"
   ]
  },
  {
   "cell_type": "code",
   "execution_count": null,
   "metadata": {},
   "outputs": [],
   "source": []
  }
 ],
 "metadata": {
  "kernelspec": {
   "display_name": "Python 3",
   "language": "python",
   "name": "python3"
  },
  "language_info": {
   "codemirror_mode": {
    "name": "ipython",
    "version": 3
   },
   "file_extension": ".py",
   "mimetype": "text/x-python",
   "name": "python",
   "nbconvert_exporter": "python",
   "pygments_lexer": "ipython3",
   "version": "3.5.2"
  }
 },
 "nbformat": 4,
 "nbformat_minor": 2
}
