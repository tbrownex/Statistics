{
 "cells": [
  {
   "cell_type": "code",
   "execution_count": 1,
   "metadata": {
    "collapsed": true
   },
   "outputs": [],
   "source": [
    "%matplotlib inline"
   ]
  },
  {
   "cell_type": "markdown",
   "metadata": {},
   "source": [
    "#### Here are several methods scikit-learn has of ranking features"
   ]
  },
  {
   "cell_type": "code",
   "execution_count": 1,
   "metadata": {
    "collapsed": true
   },
   "outputs": [],
   "source": [
    "import pandas as pd\n",
    "import matplotlib.pyplot as plt\n",
    "from sklearn.feature_selection import SelectKBest\n",
    "from sklearn.feature_selection import chi2\n",
    "from sklearn.feature_selection import f_regression, mutual_info_regression"
   ]
  },
  {
   "cell_type": "markdown",
   "metadata": {},
   "source": [
    "#### load the data"
   ]
  },
  {
   "cell_type": "code",
   "execution_count": 2,
   "metadata": {
    "collapsed": false
   },
   "outputs": [],
   "source": [
    "data_loc = \"D:\\\\Data\\\\Python\\\\\"\n",
    "filenm = \"winequality-red.csv\"\n",
    "\n",
    "df = pd.read_csv(data_loc+filenm, delimiter=';')\n",
    "cols = df.columns.tolist()"
   ]
  },
  {
   "cell_type": "markdown",
   "metadata": {},
   "source": [
    "#### X holds the features; Y the response"
   ]
  },
  {
   "cell_type": "code",
   "execution_count": 3,
   "metadata": {
    "collapsed": false
   },
   "outputs": [],
   "source": [
    "array = df.values\n",
    "\n",
    "X = array[:,0:11]\n",
    "Y = array[:,11]"
   ]
  },
  {
   "cell_type": "markdown",
   "metadata": {},
   "source": [
    "#### run the F-test and Mutual Information"
   ]
  },
  {
   "cell_type": "code",
   "execution_count": 5,
   "metadata": {
    "collapsed": false
   },
   "outputs": [
    {
     "data": {
      "text/plain": [
       "list"
      ]
     },
     "execution_count": 5,
     "metadata": {},
     "output_type": "execute_result"
    }
   ],
   "source": [
    "F, pval = f_regression(X,Y)\n",
    "mi = mutual_info_regression(X, Y)\n",
    "# save the results\n",
    "results_F = list(zip(F,cols))\n",
    "results_F.sort(reverse=True)        # 1st entry has highest F statistic"
   ]
  },
  {
   "cell_type": "markdown",
   "metadata": {},
   "source": [
    "#### Display"
   ]
  },
  {
   "cell_type": "code",
   "execution_count": 6,
   "metadata": {
    "collapsed": false
   },
   "outputs": [],
   "source": [
    "plt.close('all')\n",
    "\n",
    "plt.figure(figsize=(10,10))\n",
    "\n",
    "for i in range(0,11):\n",
    "        sub = plt.subplot(4, 3, i+1)\n",
    "        sub.scatter(X[:,i], Y)\n",
    "        sub.set_title('{}  F: {:.2f}'.format(cols[i], F[i]), fontsize=10)\n",
    "        sub.set_ylabel('Quality', fontsize=10)\n",
    "\n",
    "plt.tight_layout()\n",
    "plt.savefig('tom.png')\n",
    "plt.show()"
   ]
  },
  {
   "cell_type": "markdown",
   "metadata": {},
   "source": [
    "#### Now try Chi-squared"
   ]
  },
  {
   "cell_type": "code",
   "execution_count": 7,
   "metadata": {
    "collapsed": false
   },
   "outputs": [],
   "source": [
    "test = SelectKBest(score_func=chi2, k=4)\n",
    "fit = test.fit(X, Y)"
   ]
  },
  {
   "cell_type": "code",
   "execution_count": 8,
   "metadata": {
    "collapsed": false
   },
   "outputs": [],
   "source": [
    "mask = fit.get_support()                # What fields did it select?\n",
    "fields = [cols[i] for i in range(len(cols)-1) if mask[i]]\n",
    "ChiSq = [fit.scores_[i] for i in range(len(cols)-1) if mask[i]]\n",
    "pval = [fit.pvalues_[i] for i in range(len(cols)-1) if mask[i]]"
   ]
  },
  {
   "cell_type": "code",
   "execution_count": 9,
   "metadata": {
    "collapsed": false
   },
   "outputs": [],
   "source": [
    "# 1st entry has highest X-Squared statistic\n",
    "results_X = list(zip(ChiSq, fields))\n",
    "results_X.sort(reverse=True)"
   ]
  },
  {
   "cell_type": "code",
   "execution_count": 10,
   "metadata": {
    "collapsed": false
   },
   "outputs": [
    {
     "name": "stdout",
     "output_type": "stream",
     "text": [
      "Attribute              Chi-squared         \n",
      "total sulfur dioxide       2756           \n",
      "free sulfur dioxide        162            \n",
      "alcohol                    46             \n",
      "volatile acidity           16             \n"
     ]
    }
   ],
   "source": [
    "print(\"{:<23}{:<20}\".format('Attribute', 'Chi-squared'))\n",
    "for x in results_X:\n",
    "    print('{:<27}{:<15.0f}'.format(x[1],x[0]))"
   ]
  },
  {
   "cell_type": "markdown",
   "metadata": {},
   "source": [
    "#### Now print them side-by-side"
   ]
  },
  {
   "cell_type": "code",
   "execution_count": 25,
   "metadata": {
    "collapsed": false
   },
   "outputs": [
    {
     "name": "stdout",
     "output_type": "stream",
     "text": [
      "Attribute          F-Statistic            Attribute              Chi-squared         \n",
      "alcohol               468                 total sulfur dioxide     2756           \n",
      "volatile acidity      287                 free sulfur dioxide      162            \n",
      "sulphates             108                 alcohol                  46             \n",
      "citric acid           86                  volatile acidity         16             \n"
     ]
    }
   ],
   "source": [
    "print(\"{:<19}{:<23}{:<23}{:<20}\".format('Attribute','F-Statistic', 'Attribute', 'Chi-squared'))\n",
    "for x in range(len(results_X)):\n",
    "    print('{:<22}{:<20.0f}{:<25}{:<15.0f}'\n",
    "          .format(results_F[x][1],results_F[x][0],results_X[x][1],results_X[x][0]))"
   ]
  }
 ],
 "metadata": {
  "anaconda-cloud": {},
  "kernelspec": {
   "display_name": "Python 3",
   "language": "python",
   "name": "python3"
  },
  "language_info": {
   "codemirror_mode": {
    "name": "ipython",
    "version": 3
   },
   "file_extension": ".py",
   "mimetype": "text/x-python",
   "name": "python",
   "nbconvert_exporter": "python",
   "pygments_lexer": "ipython3",
   "version": "3.5.2"
  }
 },
 "nbformat": 4,
 "nbformat_minor": 0
}
