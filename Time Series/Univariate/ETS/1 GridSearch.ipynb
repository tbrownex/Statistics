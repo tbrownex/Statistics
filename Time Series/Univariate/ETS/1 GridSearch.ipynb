{
 "cells": [
  {
   "cell_type": "code",
   "execution_count": 1,
   "metadata": {},
   "outputs": [],
   "source": [
    "from statsmodels.tsa.holtwinters import ExponentialSmoothing\n",
    "from sklearn.metrics import mean_squared_error\n",
    "from pandas import read_csv\n",
    "import numpy as np\n",
    "import time\n",
    "import operator\n",
    "from getData import getData\n",
    "from getConfig import getConfig\n",
    "from editConfig import editConfig\n",
    "from getETSparms import getETSparms\n",
    "from calcMAPE import calcMAPE"
   ]
  },
  {
   "cell_type": "code",
   "execution_count": 2,
   "metadata": {},
   "outputs": [],
   "source": [
    "def buildModel(train, m):\n",
    "    '''\n",
    "    Build a Holt-Winters ETS model with passed parameters\n",
    "    '''\n",
    "    t = m[\"trend\"]\n",
    "    d = m[\"damped\"]\n",
    "    s = m[\"seasonal\"]\n",
    "    p = m[\"periods\"]\n",
    "    return ExponentialSmoothing(\\\n",
    "                                train,\\\n",
    "                                trend=t,\\\n",
    "                                damped=d,\\\n",
    "                                seasonal=s,\\\n",
    "                                seasonal_periods=p)"
   ]
  },
  {
   "cell_type": "code",
   "execution_count": 3,
   "metadata": {},
   "outputs": [],
   "source": [
    "def fitModel(model, f):\n",
    "    '''\n",
    "    Fit the model\n",
    "    '''\n",
    "    b = f[\"BoxCox\"]\n",
    "    r = f[\"RemoveBias\"]\n",
    "    alpha = f[\"smoothing_level\"]\n",
    "    beta = f[\"smoothing_slope\"]\n",
    "    gamma = f[\"smoothing_seasonal\"]\n",
    "    \n",
    "    return model.fit(\\\n",
    "                     optimized=True,\\\n",
    "                     use_boxcox=b,\\\n",
    "                     remove_bias=r,\\\n",
    "                     smoothing_level=alpha,\\\n",
    "                     smoothing_slope=beta,\\\n",
    "                     smoothing_seasonal=gamma)"
   ]
  },
  {
   "cell_type": "code",
   "execution_count": 4,
   "metadata": {},
   "outputs": [],
   "source": [
    "def predict(model, config):\n",
    "    '''\n",
    "    Using the input model, make predictions using \"forecast\"\n",
    "    '''\n",
    "    steps = config[\"testSize\"]\n",
    "    preds = model.forecast(steps=steps)\n",
    "    return preds"
   ]
  },
  {
   "cell_type": "code",
   "execution_count": 5,
   "metadata": {},
   "outputs": [],
   "source": [
    "def saveModel(m, f, aicc, error):\n",
    "    '''\n",
    "    Store the results: the parameters used to build the model; various \"fit\" attributes; the fitted values; the error\n",
    "    '''\n",
    "    t = m[\"trend\"] \n",
    "    d = m[\"damped\"]\n",
    "    s = m[\"seasonal\"]\n",
    "    p = m[\"periods\"]\n",
    "    b = f[\"BoxCox\"]\n",
    "    r = f[\"RemoveBias\"]\n",
    "    alpha = f[\"smoothing_level\"]\n",
    "    beta = f[\"smoothing_slope\"]\n",
    "    gamma = f[\"smoothing_seasonal\"]\n",
    "    aicc = str(round(aicc, 2))\n",
    "    error = str(round(error,3))\n",
    "    \n",
    "    rec = str(t)+\",\"+str(d)+\",\"+str(s)+\",\"+str(p)+\",\"+str(b)+\",\"+str(r)+\",\"+str(alpha)+\",\"+str(beta)+\\\n",
    "    \",\"+str(gamma)+\",\"+aicc+\",\"+error+\"\\n\"\n",
    "    summary.write(rec)"
   ]
  },
  {
   "cell_type": "code",
   "execution_count": 6,
   "metadata": {},
   "outputs": [],
   "source": [
    "def runParms(train, test, m, f, config):\n",
    "    '''\n",
    "    For each parameter combination, build a model; fit the model; make predictions; calculate the error\n",
    "    Each combination is tested repeatedly against a rolling window of Train/Test data\n",
    "    '''\n",
    "    try:\n",
    "        model = buildModel(train, m)\n",
    "        model = fitModel(model, f)\n",
    "        aicc = round(model.aicc, 2)\n",
    "        preds = predict(model, config)\n",
    "        error = calcMAPE(test, preds)\n",
    "    except:\n",
    "        aicc = error = None\n",
    "    return aicc, error"
   ]
  },
  {
   "cell_type": "code",
   "execution_count": 7,
   "metadata": {},
   "outputs": [],
   "source": [
    "def gridSearch(ts, modelParms, fitParms, config):\n",
    "    '''\n",
    "    Loop through all the parameter combinations\n",
    "    '''\n",
    "    numCombos = len(modelParms) * len(fitParms)\n",
    "    trainWindow = config[\"trainingSize\"]\n",
    "    testWindow = config[\"testSize\"]\n",
    "    \n",
    "    count = 0\n",
    "    for m in modelParms:\n",
    "        for f in fitParms:\n",
    "            errorList = []\n",
    "            aiccList = []\n",
    "            for x in range(config[\"numForecasts\"]):\n",
    "                train = ts[x:(x + trainWindow)]\n",
    "                test = ts[(x + trainWindow):(x + trainWindow + testWindow)]\n",
    "                train = np.array(train)\n",
    "                test = np.array(test)\n",
    "                aicc, error = runParms(train, test, m, f, config)\n",
    "                if error is not None:\n",
    "                    errorList.append(error)\n",
    "                    aiccList.append(aicc)\n",
    "            if len(errorList) > 0:\n",
    "                error = sum(errorList)/len(errorList)\n",
    "                aicc = sum(aiccList)/len(aiccList)\n",
    "                saveModel(m, f, aicc, error)\n",
    "            count += 1\n",
    "            if count %100 == 0:\n",
    "                print(\"Done with forecast {} of {}\".format(count, numCombos))\n",
    "    return"
   ]
  },
  {
   "cell_type": "code",
   "execution_count": 8,
   "metadata": {},
   "outputs": [
    {
     "name": "stdout",
     "output_type": "stream",
     "text": [
      "Finished after 0 minutes\n"
     ]
    }
   ],
   "source": [
    "config = getConfig()\n",
    "editConfig()\n",
    "\n",
    "df = getData(config)\n",
    "ts = df[config[\"labelColumn\"]]\n",
    "\n",
    "modelParms, fitParms = getETSparms()\n",
    "start = time.time()\n",
    "with open(config[\"dataLoc\"]+\"summary.csv\", \"w\") as summary:\n",
    "    hdr = \"trend\"+\",\"+\"damped\"+\",\"+\"seasonal\"+\",\"+\"periods\"+\",\"+\"BoxCox\"+\",\"+\"bias\"+\\\n",
    "   \",\"+\"alpha\"+ \",\"+\"beta\"+ \",\"+\"gamma\"+ \",\"+\"aicc\"+ \",\"+\"error\"+\"\\n\"\n",
    "    summary.write(hdr)\n",
    "    gridSearch(ts, modelParms, fitParms, config)\n",
    "\n",
    "print(\"Finished after {:.0f} minutes\".format((time.time() - start)/60))"
   ]
  },
  {
   "cell_type": "code",
   "execution_count": null,
   "metadata": {},
   "outputs": [],
   "source": []
  }
 ],
 "metadata": {
  "kernelspec": {
   "display_name": "Python 3",
   "language": "python",
   "name": "python3"
  },
  "language_info": {
   "codemirror_mode": {
    "name": "ipython",
    "version": 3
   },
   "file_extension": ".py",
   "mimetype": "text/x-python",
   "name": "python",
   "nbconvert_exporter": "python",
   "pygments_lexer": "ipython3",
   "version": "3.5.2"
  }
 },
 "nbformat": 4,
 "nbformat_minor": 2
}
