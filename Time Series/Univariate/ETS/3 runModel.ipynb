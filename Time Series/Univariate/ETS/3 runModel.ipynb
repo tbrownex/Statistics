{
 "cells": [
  {
   "cell_type": "code",
   "execution_count": 1,
   "metadata": {},
   "outputs": [],
   "source": [
    "from statsmodels.tsa.holtwinters import ExponentialSmoothing\n",
    "from sklearn.metrics import mean_squared_error\n",
    "from pandas import read_csv\n",
    "import numpy as np\n",
    "import operator\n",
    "from getData import getData\n",
    "from getConfig import getConfig\n",
    "from getETSparms import getETSparms\n",
    "from calcMAPE import calcMAPE"
   ]
  },
  {
   "cell_type": "code",
   "execution_count": 2,
   "metadata": {},
   "outputs": [],
   "source": [
    "# Input is the time series. Split into Train and Test\n",
    "def train_test_split(ts, config):\n",
    "    steps = config[\"testSize\"]\n",
    "    start = config[\"trainingSize\"]+steps\n",
    "    train = ts[-start:-steps]\n",
    "    test = ts[-steps:]\n",
    "    train = np.array(train)\n",
    "    test = np.array(test)\n",
    "    return train, test"
   ]
  },
  {
   "cell_type": "code",
   "execution_count": 3,
   "metadata": {},
   "outputs": [],
   "source": [
    "def buildModel(train, m):\n",
    "    '''\n",
    "    Build a Holt-Winters ETS model with passed parameters\n",
    "    '''\n",
    "    t = m[\"trend\"]\n",
    "    d = m[\"damped\"]\n",
    "    s = m[\"seasonal\"]\n",
    "    p = m[\"periods\"]\n",
    "    return ExponentialSmoothing(\\\n",
    "                                train,\\\n",
    "                                trend=t,\\\n",
    "                                damped=d,\\\n",
    "                                seasonal=s,\\\n",
    "                                seasonal_periods=p)"
   ]
  },
  {
   "cell_type": "code",
   "execution_count": 4,
   "metadata": {},
   "outputs": [],
   "source": [
    "def fitModel(model, f):\n",
    "    '''\n",
    "    Fit the model\n",
    "    '''\n",
    "    b = f[\"BoxCox\"]\n",
    "    r = f[\"RemoveBias\"]\n",
    "    alpha = f[\"smoothing_level\"]\n",
    "    return model.fit(\\\n",
    "                     optimized=True,\\\n",
    "                     use_boxcox=b,\\\n",
    "                     remove_bias=r,\\\n",
    "                     smoothing_level=alpha)"
   ]
  },
  {
   "cell_type": "code",
   "execution_count": 5,
   "metadata": {},
   "outputs": [],
   "source": [
    "def predict(model, config):\n",
    "    '''\n",
    "    Using the input model, make predictions using \"forecast\"\n",
    "    '''\n",
    "    steps = config[\"testSize\"]\n",
    "    preds = model.forecast(steps=steps)\n",
    "    return preds"
   ]
  },
  {
   "cell_type": "code",
   "execution_count": 6,
   "metadata": {},
   "outputs": [],
   "source": [
    "def savePrediction(test, preds):\n",
    "    # Store the results of the prediction\n",
    "    test = np.reshape(test, [-1,1])\n",
    "    \n",
    "    preds = np.reshape(preds, [-1,1])\n",
    "    \n",
    "    merged = np.concatenate([test, preds], axis=1)\n",
    "    fname = \"predictions.csv\"\n",
    "    np.savetxt(config[\"dataLoc\"]+fname, merged, delimiter=\",\", fmt='%9.2f', header=\"Test, Prediction\")"
   ]
  },
  {
   "cell_type": "code",
   "execution_count": 7,
   "metadata": {},
   "outputs": [],
   "source": [
    "config = getConfig()\n",
    "df = getData(config)\n",
    "ts = df[config[\"labelColumn\"]]\n",
    "train, test = train_test_split(ts, config)"
   ]
  },
  {
   "cell_type": "code",
   "execution_count": 8,
   "metadata": {},
   "outputs": [],
   "source": [
    "modelParms, fitParms = getETSparms()\n",
    "total = len(modelParms) * len(fitParms)\n",
    "assert (total == 1), \"This module only designed to work with a single set of parameters\""
   ]
  },
  {
   "cell_type": "code",
   "execution_count": 10,
   "metadata": {},
   "outputs": [
    {
     "name": "stdout",
     "output_type": "stream",
     "text": [
      "0.011962817718576185\n"
     ]
    }
   ],
   "source": [
    "model = buildModel(train, modelParms[0])\n",
    "model = fitModel(model, fitParms[0])\n",
    "preds = predict(model, config)\n",
    "error = calcMAPE(test, preds)\n",
    "print(error)\n",
    "savePrediction(test, preds)"
   ]
  },
  {
   "cell_type": "code",
   "execution_count": 11,
   "metadata": {},
   "outputs": [],
   "source": [
    "t = np.reshape(train, [-1,1])\n",
    "f = np.reshape(model.fittedvalues, [-1,1])\n",
    "x = np.concatenate((t, f), axis=1)"
   ]
  },
  {
   "cell_type": "code",
   "execution_count": 12,
   "metadata": {},
   "outputs": [],
   "source": [
    "np.savetxt(config[\"dataLoc\"]+\"fitted.csv\", x, delimiter=\",\", header=\"Train,Fitted\")"
   ]
  },
  {
   "cell_type": "code",
   "execution_count": null,
   "metadata": {},
   "outputs": [],
   "source": []
  }
 ],
 "metadata": {
  "kernelspec": {
   "display_name": "Python 3",
   "language": "python",
   "name": "python3"
  },
  "language_info": {
   "codemirror_mode": {
    "name": "ipython",
    "version": 3
   },
   "file_extension": ".py",
   "mimetype": "text/x-python",
   "name": "python",
   "nbconvert_exporter": "python",
   "pygments_lexer": "ipython3",
   "version": "3.5.2"
  }
 },
 "nbformat": 4,
 "nbformat_minor": 2
}
