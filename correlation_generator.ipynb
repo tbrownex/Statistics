{
 "cells": [
  {
   "cell_type": "markdown",
   "metadata": {},
   "source": [
    "#### 3 ways to calculate correlation:\n",
    "1) Pearson's\n",
    "2) Kendall's\n",
    "3) Spearman's"
   ]
  },
  {
   "cell_type": "code",
   "execution_count": null,
   "metadata": {
    "collapsed": true
   },
   "outputs": [],
   "source": [
    "import pandas as pd\n",
    "from scipy import stats\n",
    "import numpy as np\n",
    "import timeit\n",
    "\n",
    "import matplotlib.pyplot as plt"
   ]
  },
  {
   "cell_type": "code",
   "execution_count": null,
   "metadata": {},
   "outputs": [],
   "source": [
    "def search():\n",
    "    while True:\n",
    "        x = [np.random.randint(1,10) for i in range(1,11)]\n",
    "        y = [np.random.randint(1,10) for i in range(1,11)]\n",
    "        \n",
    "        Pcoeff, Pp = stats.pearsonr(x, y)\n",
    "        Kcoeff, Kp = stats.kendalltau(x, y)\n",
    "        Scoeff, Sp = stats.spearmanr(x, y)\n",
    "        if Pcoeff > .2 and (Kcoeff - Pcoeff) > .2:\n",
    "            yield ([Pcoeff, Pp, Kcoeff, Kp, Scoeff, Sp, x, y])"
   ]
  },
  {
   "cell_type": "markdown",
   "metadata": {},
   "source": [
    "#### Use the \"stop kernel\" when you have enough results; then continue with following cells to view results"
   ]
  },
  {
   "cell_type": "code",
   "execution_count": null,
   "metadata": {},
   "outputs": [],
   "source": [
    "start_time = timeit.default_timer()\n",
    "results = []\n",
    "\n",
    "for x in search():\n",
    "    print (\"found one\")\n",
    "    print(timeit.default_timer() - start_time)\n",
    "    results.append([x[0], x[1], x[2], x[3], x[4], x[5], x[6], x[7]])\n",
    "    start_time = timeit.default_timer()"
   ]
  },
  {
   "cell_type": "code",
   "execution_count": null,
   "metadata": {},
   "outputs": [],
   "source": [
    "cols = ['PearsonCoeff', 'PearsonP', 'KendallCoeff', 'KendallP', 'SpearmanCoeff',\n",
    "        'SpearmanP', 'X', 'Y']\n",
    "\n",
    "df = pd.DataFrame(results)\n",
    "df.columns = cols\n",
    "df"
   ]
  },
  {
   "cell_type": "code",
   "execution_count": null,
   "metadata": {},
   "outputs": [],
   "source": [
    "x = df.ix[0,'X']\n",
    "y = df.ix[0,'Y']"
   ]
  },
  {
   "cell_type": "code",
   "execution_count": null,
   "metadata": {},
   "outputs": [],
   "source": [
    "tom = plt.scatter(x, y, color='red', marker='o', s=500)"
   ]
  },
  {
   "cell_type": "code",
   "execution_count": null,
   "metadata": {},
   "outputs": [],
   "source": [
    "plt.suptitle('test title', fontsize=50)\n",
    "plt.xlabel('xlabel', fontsize=40)\n",
    "plt.ylabel('ylabel', fontsize=40)\n",
    "\n",
    "plt.legend(scatterpoints=1,\n",
    "           loc='lower right',\n",
    "           fontsize=30)\n",
    "plt.show()"
   ]
  },
  {
   "cell_type": "code",
   "execution_count": null,
   "metadata": {
    "collapsed": true
   },
   "outputs": [],
   "source": []
  }
 ],
 "metadata": {
  "anaconda-cloud": {},
  "kernelspec": {
   "display_name": "Python 3",
   "language": "python",
   "name": "python3"
  },
  "language_info": {
   "codemirror_mode": {
    "name": "ipython",
    "version": 3
   },
   "file_extension": ".py",
   "mimetype": "text/x-python",
   "name": "python",
   "nbconvert_exporter": "python",
   "pygments_lexer": "ipython3",
   "version": "3.6.12"
  }
 },
 "nbformat": 4,
 "nbformat_minor": 1
}
