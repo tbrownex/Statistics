{
 "cells": [
  {
   "cell_type": "markdown",
   "metadata": {},
   "source": [
    "#### 3 ways to calculate correlation:\n",
    "1) Pearson's\n",
    "2) Kendall's\n",
    "3) Spearman's"
   ]
  },
  {
   "cell_type": "code",
   "execution_count": 1,
   "metadata": {
    "collapsed": true
   },
   "outputs": [],
   "source": [
    "import pandas as pd\n",
    "from scipy import stats\n",
    "import numpy as np\n",
    "import timeit\n",
    "\n",
    "import matplotlib.pyplot as plt"
   ]
  },
  {
   "cell_type": "code",
   "execution_count": 2,
   "metadata": {
    "collapsed": false
   },
   "outputs": [],
   "source": [
    "def loop():\n",
    "    x = [np.random.randint(1,10) for i in range(1,11)]\n",
    "    y = [np.random.randint(1,10) for i in range(1,11)]\n",
    "\n",
    "    Pcoeff, Pp = stats.pearsonr(x, y)\n",
    "    Kcoeff, Kp = stats.kendalltau(x, y)\n",
    "    Scoeff, Sp = stats.spearmanr(x, y)\n",
    "    if Kcoeff > .2 and Pcoeff < .2:\n",
    "        results.append([Pcoeff, Pp, Kcoeff, Kp, Scoeff, Sp, x, y])\n",
    "    return"
   ]
  },
  {
   "cell_type": "code",
   "execution_count": 3,
   "metadata": {
    "collapsed": true
   },
   "outputs": [],
   "source": [
    "x = 0\n",
    "global results\n",
    "results = []\n",
    "\n",
    "start_time = timeit.default_timer()\n",
    "\n",
    "while x in range(1000):\n",
    "    loop()\n",
    "    x += 1"
   ]
  },
  {
   "cell_type": "code",
   "execution_count": 4,
   "metadata": {
    "collapsed": false
   },
   "outputs": [
    {
     "data": {
      "text/html": [
       "<div>\n",
       "<table border=\"1\" class=\"dataframe\">\n",
       "  <thead>\n",
       "    <tr style=\"text-align: right;\">\n",
       "      <th></th>\n",
       "      <th>PearsonCoeff</th>\n",
       "      <th>PearsonP</th>\n",
       "      <th>KendallCoeff</th>\n",
       "      <th>KendallP</th>\n",
       "      <th>SpearmanCoeff</th>\n",
       "      <th>SpearmanP</th>\n",
       "      <th>X</th>\n",
       "      <th>Y</th>\n",
       "    </tr>\n",
       "  </thead>\n",
       "  <tbody>\n",
       "    <tr>\n",
       "      <th>0</th>\n",
       "      <td>0.196329</td>\n",
       "      <td>0.586706</td>\n",
       "      <td>0.202678</td>\n",
       "      <td>0.414636</td>\n",
       "      <td>0.237361</td>\n",
       "      <td>0.509051</td>\n",
       "      <td>[2, 5, 7, 8, 1, 2, 7, 7, 5, 2]</td>\n",
       "      <td>[8, 1, 9, 7, 2, 6, 6, 1, 6, 3]</td>\n",
       "    </tr>\n",
       "    <tr>\n",
       "      <th>1</th>\n",
       "      <td>0.136907</td>\n",
       "      <td>0.706067</td>\n",
       "      <td>0.214346</td>\n",
       "      <td>0.388287</td>\n",
       "      <td>0.231486</td>\n",
       "      <td>0.519898</td>\n",
       "      <td>[1, 6, 1, 5, 3, 7, 2, 8, 5, 9]</td>\n",
       "      <td>[7, 3, 3, 8, 7, 5, 9, 8, 1, 9]</td>\n",
       "    </tr>\n",
       "    <tr>\n",
       "      <th>2</th>\n",
       "      <td>0.186980</td>\n",
       "      <td>0.604983</td>\n",
       "      <td>0.240981</td>\n",
       "      <td>0.332081</td>\n",
       "      <td>0.338516</td>\n",
       "      <td>0.338678</td>\n",
       "      <td>[6, 7, 1, 5, 4, 8, 6, 2, 6, 8]</td>\n",
       "      <td>[4, 4, 3, 2, 1, 3, 7, 8, 8, 9]</td>\n",
       "    </tr>\n",
       "    <tr>\n",
       "      <th>3</th>\n",
       "      <td>0.106805</td>\n",
       "      <td>0.769011</td>\n",
       "      <td>0.228013</td>\n",
       "      <td>0.358759</td>\n",
       "      <td>0.209576</td>\n",
       "      <td>0.561164</td>\n",
       "      <td>[8, 7, 8, 3, 4, 4, 3, 6, 7, 9]</td>\n",
       "      <td>[3, 2, 5, 7, 3, 2, 2, 1, 2, 6]</td>\n",
       "    </tr>\n",
       "    <tr>\n",
       "      <th>4</th>\n",
       "      <td>0.135378</td>\n",
       "      <td>0.709228</td>\n",
       "      <td>0.222239</td>\n",
       "      <td>0.371057</td>\n",
       "      <td>0.259380</td>\n",
       "      <td>0.469263</td>\n",
       "      <td>[3, 9, 7, 2, 2, 1, 6, 7, 1, 9]</td>\n",
       "      <td>[6, 4, 3, 5, 2, 1, 3, 5, 1, 1]</td>\n",
       "    </tr>\n",
       "  </tbody>\n",
       "</table>\n",
       "</div>"
      ],
      "text/plain": [
       "   PearsonCoeff  PearsonP  KendallCoeff  KendallP  SpearmanCoeff  SpearmanP  \\\n",
       "0      0.196329  0.586706      0.202678  0.414636       0.237361   0.509051   \n",
       "1      0.136907  0.706067      0.214346  0.388287       0.231486   0.519898   \n",
       "2      0.186980  0.604983      0.240981  0.332081       0.338516   0.338678   \n",
       "3      0.106805  0.769011      0.228013  0.358759       0.209576   0.561164   \n",
       "4      0.135378  0.709228      0.222239  0.371057       0.259380   0.469263   \n",
       "\n",
       "                                X                               Y  \n",
       "0  [2, 5, 7, 8, 1, 2, 7, 7, 5, 2]  [8, 1, 9, 7, 2, 6, 6, 1, 6, 3]  \n",
       "1  [1, 6, 1, 5, 3, 7, 2, 8, 5, 9]  [7, 3, 3, 8, 7, 5, 9, 8, 1, 9]  \n",
       "2  [6, 7, 1, 5, 4, 8, 6, 2, 6, 8]  [4, 4, 3, 2, 1, 3, 7, 8, 8, 9]  \n",
       "3  [8, 7, 8, 3, 4, 4, 3, 6, 7, 9]  [3, 2, 5, 7, 3, 2, 2, 1, 2, 6]  \n",
       "4  [3, 9, 7, 2, 2, 1, 6, 7, 1, 9]  [6, 4, 3, 5, 2, 1, 3, 5, 1, 1]  "
      ]
     },
     "execution_count": 4,
     "metadata": {},
     "output_type": "execute_result"
    }
   ],
   "source": [
    "cols = ['PearsonCoeff', 'PearsonP', 'KendallCoeff', 'KendallP', 'SpearmanCoeff',\n",
    "        'SpearmanP', 'X', 'Y']\n",
    "\n",
    "df = pd.DataFrame(results)\n",
    "df.columns = cols\n",
    "df.head()"
   ]
  },
  {
   "cell_type": "code",
   "execution_count": 5,
   "metadata": {
    "collapsed": false
   },
   "outputs": [],
   "source": [
    "x = df.ix[0,'X']\n",
    "y = df.ix[0,'Y']"
   ]
  },
  {
   "cell_type": "code",
   "execution_count": 6,
   "metadata": {
    "collapsed": true
   },
   "outputs": [],
   "source": [
    "x1 = [np.random.randint(1,10) for i in range(1,11)]\n",
    "y1 = [np.random.randint(1,10) for i in range(1,11)]"
   ]
  },
  {
   "cell_type": "code",
   "execution_count": 24,
   "metadata": {
    "collapsed": false
   },
   "outputs": [],
   "source": [
    "tom = plt.scatter(x, y, color='red', marker='o', s=500)\n",
    "test = plt.scatter(x1, y1, color='blue', marker='x', s=500 )"
   ]
  },
  {
   "cell_type": "code",
   "execution_count": 25,
   "metadata": {
    "collapsed": false
   },
   "outputs": [
    {
     "data": {
      "text/plain": [
       "<matplotlib.text.Text at 0x219f0955518>"
      ]
     },
     "execution_count": 25,
     "metadata": {},
     "output_type": "execute_result"
    }
   ],
   "source": [
    "plt.suptitle('test title', fontsize=50)\n",
    "plt.xlabel('xlabel', fontsize=40)\n",
    "plt.ylabel('ylabel', fontsize=40)"
   ]
  },
  {
   "cell_type": "code",
   "execution_count": 26,
   "metadata": {
    "collapsed": false
   },
   "outputs": [
    {
     "data": {
      "text/plain": [
       "<matplotlib.legend.Legend at 0x219f09ad080>"
      ]
     },
     "execution_count": 26,
     "metadata": {},
     "output_type": "execute_result"
    }
   ],
   "source": [
    "plt.legend((tom, test),\n",
    "           ('Ryder Cup', 'Test'),\n",
    "           scatterpoints=1,\n",
    "           loc='lower right',\n",
    "           fontsize=30)"
   ]
  },
  {
   "cell_type": "code",
   "execution_count": 27,
   "metadata": {
    "collapsed": false
   },
   "outputs": [],
   "source": [
    "plt.show()"
   ]
  }
 ],
 "metadata": {
  "anaconda-cloud": {},
  "kernelspec": {
   "display_name": "Python [Root]",
   "language": "python",
   "name": "Python [Root]"
  },
  "language_info": {
   "codemirror_mode": {
    "name": "ipython",
    "version": 3
   },
   "file_extension": ".py",
   "mimetype": "text/x-python",
   "name": "python",
   "nbconvert_exporter": "python",
   "pygments_lexer": "ipython3",
   "version": "3.5.2"
  }
 },
 "nbformat": 4,
 "nbformat_minor": 0
}
