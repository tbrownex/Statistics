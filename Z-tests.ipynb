{
 "cells": [
  {
   "cell_type": "code",
   "execution_count": 5,
   "metadata": {
    "collapsed": true
   },
   "outputs": [],
   "source": [
    "import pandas as pd\n",
    "import numpy as np\n",
    "from scipy import stats\n",
    "from math import sqrt"
   ]
  },
  {
   "cell_type": "code",
   "execution_count": 6,
   "metadata": {
    "collapsed": false
   },
   "outputs": [],
   "source": [
    "#INPUT_DIR = 'D:\\\\Data\\Python\\\\'\n",
    "#file = 'Rx Sales data.csv'\n",
    "#df = pd.read_csv(INPUT_DIR + file)\n",
    "#f.shape"
   ]
  },
  {
   "cell_type": "markdown",
   "metadata": {},
   "source": [
    "### Example 1\n",
    "#### Given the national avg on SAT scores, how did this girl perform: what % of people was she better than?"
   ]
  },
  {
   "cell_type": "code",
   "execution_count": 17,
   "metadata": {
    "collapsed": false
   },
   "outputs": [
    {
     "name": "stdout",
     "output_type": "stream",
     "text": [
      "Z-score is 1.35 which is higher than 91% of all test takers\n"
     ]
    }
   ],
   "source": [
    "pop_mean = 469\n",
    "pop_std = 119\n",
    "pop_size = 1000\n",
    "\n",
    "sample_mean = 630\n",
    "sample_std = pop_std\n",
    "sample_size = 1\n",
    "\n",
    "SE = np.sqrt(sample_std**2/sample_size + pop_std**2/pop_size)\n",
    "\n",
    "Z = (sample_mean - pop_mean) / SE\n",
    "pval = (stats.norm.cdf(Z))             # \"cdf\" method returns area to the LEFT of Z\n",
    "\n",
    "print(\"Z-score is {:.2f} which is higher than {:.0%} of all test takers\".format(Z,pval))"
   ]
  },
  {
   "cell_type": "markdown",
   "metadata": {},
   "source": [
    "### Example 2\n",
    "#### Given 2 samples, with known population StdDev, are the two means the same?"
   ]
  },
  {
   "cell_type": "code",
   "execution_count": 21,
   "metadata": {
    "collapsed": false
   },
   "outputs": [
    {
     "name": "stdout",
     "output_type": "stream",
     "text": [
      "Z-score is -2.37 which has a probability of 1.79% assuming equal means\n"
     ]
    }
   ],
   "source": [
    "sample1_mean = 28\n",
    "pop1_std = 14.1\n",
    "sample1_size = 75\n",
    "\n",
    "sample2_mean = 33\n",
    "pop2_std = 9.5\n",
    "sample2_size = 50\n",
    "\n",
    "SE = np.sqrt(pop1_std**2/sample1_size + pop2_std**2/sample2_size)\n",
    "\n",
    "Z = (sample1_mean - sample2_mean) / SE\n",
    "pval = 2 * (stats.norm.cdf(Z))             # double it since this is 2-tailed test\n",
    "print(\"Z-score is {:.2f} which has a probability of {:.2%} assuming equal means\".format(Z,pval))"
   ]
  },
  {
   "cell_type": "markdown",
   "metadata": {},
   "source": [
    "### Example 3\n",
    "#### Given population mean and Std, how did this class perform relative to others?"
   ]
  },
  {
   "cell_type": "code",
   "execution_count": 33,
   "metadata": {
    "collapsed": false
   },
   "outputs": [
    {
     "name": "stdout",
     "output_type": "stream",
     "text": [
      "Z-score of 2.78 has a CDF of 99.7%\n"
     ]
    }
   ],
   "source": [
    "pop_mean = 50\n",
    "pop_std = 10\n",
    "sample_mean = 55\n",
    "sample_size = 31\n",
    "\n",
    "Z = (sample_mean - pop_mean) / (pop_std / sqrt(sample_size))\n",
    "p = stats.norm.cdf(Z)\n",
    "print(\"Z-score of {:.2f} has a CDF of {:.1%}\".format(Z,p))"
   ]
  },
  {
   "cell_type": "code",
   "execution_count": 35,
   "metadata": {
    "collapsed": false
   },
   "outputs": [
    {
     "name": "stdout",
     "output_type": "stream",
     "text": [
      "Z-score of 1.77 has a CDF of 96.2%\n"
     ]
    }
   ],
   "source": [
    "pop_mean = 520\n",
    "pop_std = 95\n",
    "sample_mean = 548\n",
    "sample_size = 36\n",
    "\n",
    "Z = (sample_mean - pop_mean) / (pop_std / sqrt(sample_size))\n",
    "p = stats.norm.cdf(Z)\n",
    "print(\"Z-score of {:.2f} has a CDF of {:.1%}\".format(Z,p))"
   ]
  }
 ],
 "metadata": {
  "anaconda-cloud": {},
  "kernelspec": {
   "display_name": "Python [Root]",
   "language": "python",
   "name": "Python [Root]"
  },
  "language_info": {
   "codemirror_mode": {
    "name": "ipython",
    "version": 3
   },
   "file_extension": ".py",
   "mimetype": "text/x-python",
   "name": "python",
   "nbconvert_exporter": "python",
   "pygments_lexer": "ipython3",
   "version": "3.5.2"
  }
 },
 "nbformat": 4,
 "nbformat_minor": 0
}
